{
 "cells": [
  {
   "cell_type": "markdown",
   "metadata": {
    "id": "MlH0H554P8rQ"
   },
   "source": [
    "# **Natural Language Processing**"
   ]
  },
  {
   "cell_type": "markdown",
   "metadata": {
    "id": "PrKlRAEtt6X7"
   },
   "source": [
    "**Natural Language Processing (NLP)** is a field of artificial intelligence that focuses on enabling computers to understand, interpret, and generate human language. It combines techniques from linguistics, computer science, and machine learning to process and analyze large amounts of natural language data. NLP is used in a wide range of applications, such as language translation, sentiment analysis, chatbots, and speech recognition."
   ]
  },
  {
   "cell_type": "markdown",
   "metadata": {
    "id": "HOKaf8wmWhuv"
   },
   "source": [
    "## **0.Loading data**"
   ]
  },
  {
   "cell_type": "markdown",
   "metadata": {
    "id": "5dEPAKKruHqZ"
   },
   "source": [
    "In this section, we load the **IMDB dataset**, which is available on Kaggle. The dataset contains movie reviews along with their corresponding sentiment labels (positive or negative). It is commonly used for binary sentiment classification tasks and is a great resource for training and evaluating NLP models. By loading this dataset, we prepare the textual data and labels needed for further preprocessing and model training."
   ]
  },
  {
   "cell_type": "code",
   "execution_count": null,
   "metadata": {
    "id": "pJWTteujTPjR"
   },
   "outputs": [],
   "source": [
    "import zipfile\n",
    "\n",
    "def unzip_data(filename):\n",
    "    \"\"\"\n",
    "    Unzips filename into the current working directory.\n",
    "\n",
    "    Args:\n",
    "        filename (str): a filepath to a target zip folder to be unzipped.\n",
    "    \"\"\"\n",
    "    try:\n",
    "        with zipfile.ZipFile(filename, \"r\") as zip_ref:\n",
    "            zip_ref.extractall()\n",
    "            print(\"Unzipped\")\n",
    "    except Exception as e:\n",
    "        print(str(e))"
   ]
  },
  {
   "cell_type": "code",
   "execution_count": null,
   "metadata": {
    "colab": {
     "base_uri": "https://localhost:8080/"
    },
    "id": "A89UsovbToly",
    "outputId": "40309d41-c8f0-445c-974b-c874a579fd0a"
   },
   "outputs": [
    {
     "name": "stdout",
     "output_type": "stream",
     "text": [
      "Unzipped\n"
     ]
    }
   ],
   "source": [
    "data_path = \"/content/zipped_data.zip\"\n",
    "unzip_data(data_path)"
   ]
  },
  {
   "cell_type": "code",
   "execution_count": null,
   "metadata": {
    "id": "DO6VwBlXT3AY"
   },
   "outputs": [],
   "source": [
    "import pandas as pd\n",
    "\n",
    "dataset_path = \"/content/IMDB Dataset.csv\"\n",
    "df = pd.read_csv(dataset_path)"
   ]
  },
  {
   "cell_type": "code",
   "execution_count": null,
   "metadata": {
    "colab": {
     "base_uri": "https://localhost:8080/"
    },
    "id": "jbj3C8mOULtR",
    "outputId": "3a60bdc9-489a-4c01-c94f-b31905170f8b"
   },
   "outputs": [
    {
     "data": {
      "application/vnd.google.colaboratory.intrinsic+json": {
       "summary": "{\n  \"name\": \"df\",\n  \"rows\": 50000,\n  \"fields\": [\n    {\n      \"column\": \"review\",\n      \"properties\": {\n        \"dtype\": \"string\",\n        \"num_unique_values\": 49582,\n        \"samples\": [\n          \"\\\"Soul Plane\\\" is a horrible attempt at comedy that only should appeal people with thick skulls, bloodshot eyes and furry pawns. <br /><br />The plot is not only incoherent but also non-existent, acting is mostly sub sub-par with a gang of highly moronic and dreadful characters thrown in for bad measure, jokes are often spotted miles ahead and almost never even a bit amusing. This movie lacks any structure and is full of racial stereotypes that must have seemed old even in the fifties, the only thing it really has going for it is some pretty ladies, but really, if you want that you can rent something from the \\\"Adult\\\" section. OK?<br /><br />I can hardly see anything here to recommend since you'll probably have a lot a better and productive time chasing rats with a sledgehammer or inventing waterproof teabags or whatever.<br /><br />2/10\",\n          \"Guest from the Future tells a fascinating story of time travel, friendship, battle of good and evil -- all with a small budget, child actors, and few special effects. Something for Spielberg and Lucas to learn from. ;) A sixth-grader Kolya \\\"Nick\\\" Gerasimov finds a time machine in the basement of a decrepit building and travels 100 years into the future. He discovers a near-perfect, utopian society where robots play guitars and write poetry, everyone is kind to each other and people enjoy everything technology has to offer. Alice is the daughter of a prominent scientist who invented a device called Mielophone that allows to read minds of humans and animals. The device can be put to both good and bad use, depending on whose hands it falls into. When two evil space pirates from Saturn who want to rule the universe attempt to steal Mielophone, it falls into the hands of 20th century school boy Nick. With the pirates hot on his tracks, he travels back to his time, followed by the pirates, and Alice. Chaos, confusion and funny situations follow as the luckless pirates try to blend in with the earthlings. Alice enrolls in the same school Nick goes to and demonstrates superhuman abilities in PE class. The catch is, Alice doesn't know what Nick looks like, while the pirates do. Also, the pirates are able to change their appearance and turn literally into anyone. (Hmm, I wonder if this is where James Cameron got the idea for Terminator...) Who gets to Nick -- and Mielophone -- first? Excellent plot, non-stop adventures, and great soundtrack. I wish Hollywood made kid movies like this one...\",\n          \"\\\"National Treasure\\\" (2004) is a thoroughly misguided hodge-podge of plot entanglements that borrow from nearly every cloak and dagger government conspiracy clich\\u00e9 that has ever been written. The film stars Nicholas Cage as Benjamin Franklin Gates (how precious is that, I ask you?); a seemingly normal fellow who, for no other reason than being of a lineage of like-minded misguided fortune hunters, decides to steal a 'national treasure' that has been hidden by the United States founding fathers. After a bit of subtext and background that plays laughably (unintentionally) like Indiana Jones meets The Patriot, the film degenerates into one misguided whimsy after another \\u0096 attempting to create a 'Stanley Goodspeed' regurgitation of Nicholas Cage and launch the whole convoluted mess forward with a series of high octane, but disconnected misadventures.<br /><br />The relevancy and logic to having George Washington and his motley crew of patriots burying a king's ransom someplace on native soil, and then, going through the meticulous plan of leaving clues scattered throughout U.S. currency art work, is something that director Jon Turteltaub never quite gets around to explaining. Couldn't Washington found better usage for such wealth during the start up of the country? Hence, we are left with a mystery built on top of an enigma that is already on shaky ground by the time Ben appoints himself the new custodian of this untold wealth. Ben's intentions are noble \\u0096 if confusing. He's set on protecting the treasure. For who and when?\\u0085your guess is as good as mine.<br /><br />But there are a few problems with Ben's crusade. First up, his friend, Ian Holmes (Sean Bean) decides that he can't wait for Ben to make up his mind about stealing the Declaration of Independence from the National Archives (oh, yeah \\u0096 brilliant idea!). Presumably, the back of that famous document holds the secret answer to the ultimate fortune. So Ian tries to kill Ben. The assassination attempt is, of course, unsuccessful, if overly melodramatic. It also affords Ben the opportunity to pick up, and pick on, the very sultry curator of the archives, Abigail Chase (Diane Kruger). She thinks Ben is clearly a nut \\u0096 at least at the beginning. But true to action/romance form, Abby's resolve melts quicker than you can say, \\\"is that the Hope Diamond?\\\" The film moves into full X-File-ish mode, as the FBI, mistakenly believing that Ben is behind the theft, retaliate in various benign ways that lead to a multi-layering of action sequences reminiscent of Mission Impossible meets The Fugitive. Honestly, don't those guys ever get 'intelligence' information that is correct? In the final analysis, \\\"National Treasure\\\" isn't great film making, so much as it's a patchwork rehash of tired old bits from other movies, woven together from scraps, the likes of which would make IL' Betsy Ross blush.<br /><br />The Buena Vista DVD delivers a far more generous treatment than this film is deserving of. The anamorphic widescreen picture exhibits a very smooth and finely detailed image with very rich colors, natural flesh tones, solid blacks and clean whites. The stylized image is also free of blemishes and digital enhancements. The audio is 5.1 and delivers a nice sonic boom to your side and rear speakers with intensity and realism. Extras include a host of promotional junket material that is rather deep and over the top in its explanation of how and why this film was made. If only, as an audience, we had had more clarification as to why Ben and co. were chasing after an illusive treasure, this might have been one good flick. Extras conclude with the theatrical trailer, audio commentary and deleted scenes. Not for the faint-hearted \\u0096 just the thick-headed.\"\n        ],\n        \"semantic_type\": \"\",\n        \"description\": \"\"\n      }\n    },\n    {\n      \"column\": \"sentiment\",\n      \"properties\": {\n        \"dtype\": \"category\",\n        \"num_unique_values\": 2,\n        \"samples\": [\n          \"negative\",\n          \"positive\"\n        ],\n        \"semantic_type\": \"\",\n        \"description\": \"\"\n      }\n    }\n  ]\n}",
       "type": "dataframe",
       "variable_name": "df"
      },
      "text/html": [
       "\n",
       "  <div id=\"df-e49edc77-09cf-4f92-a5f0-653268d945ff\" class=\"colab-df-container\">\n",
       "    <div>\n",
       "<style scoped>\n",
       "    .dataframe tbody tr th:only-of-type {\n",
       "        vertical-align: middle;\n",
       "    }\n",
       "\n",
       "    .dataframe tbody tr th {\n",
       "        vertical-align: top;\n",
       "    }\n",
       "\n",
       "    .dataframe thead th {\n",
       "        text-align: right;\n",
       "    }\n",
       "</style>\n",
       "<table border=\"1\" class=\"dataframe\">\n",
       "  <thead>\n",
       "    <tr style=\"text-align: right;\">\n",
       "      <th></th>\n",
       "      <th>review</th>\n",
       "      <th>sentiment</th>\n",
       "    </tr>\n",
       "  </thead>\n",
       "  <tbody>\n",
       "    <tr>\n",
       "      <th>0</th>\n",
       "      <td>One of the other reviewers has mentioned that ...</td>\n",
       "      <td>positive</td>\n",
       "    </tr>\n",
       "    <tr>\n",
       "      <th>1</th>\n",
       "      <td>A wonderful little production. &lt;br /&gt;&lt;br /&gt;The...</td>\n",
       "      <td>positive</td>\n",
       "    </tr>\n",
       "    <tr>\n",
       "      <th>2</th>\n",
       "      <td>I thought this was a wonderful way to spend ti...</td>\n",
       "      <td>positive</td>\n",
       "    </tr>\n",
       "    <tr>\n",
       "      <th>3</th>\n",
       "      <td>Basically there's a family where a little boy ...</td>\n",
       "      <td>negative</td>\n",
       "    </tr>\n",
       "    <tr>\n",
       "      <th>4</th>\n",
       "      <td>Petter Mattei's \"Love in the Time of Money\" is...</td>\n",
       "      <td>positive</td>\n",
       "    </tr>\n",
       "  </tbody>\n",
       "</table>\n",
       "</div>\n",
       "    <div class=\"colab-df-buttons\">\n",
       "\n",
       "  <div class=\"colab-df-container\">\n",
       "    <button class=\"colab-df-convert\" onclick=\"convertToInteractive('df-e49edc77-09cf-4f92-a5f0-653268d945ff')\"\n",
       "            title=\"Convert this dataframe to an interactive table.\"\n",
       "            style=\"display:none;\">\n",
       "\n",
       "  <svg xmlns=\"http://www.w3.org/2000/svg\" height=\"24px\" viewBox=\"0 -960 960 960\">\n",
       "    <path d=\"M120-120v-720h720v720H120Zm60-500h600v-160H180v160Zm220 220h160v-160H400v160Zm0 220h160v-160H400v160ZM180-400h160v-160H180v160Zm440 0h160v-160H620v160ZM180-180h160v-160H180v160Zm440 0h160v-160H620v160Z\"/>\n",
       "  </svg>\n",
       "    </button>\n",
       "\n",
       "  <style>\n",
       "    .colab-df-container {\n",
       "      display:flex;\n",
       "      gap: 12px;\n",
       "    }\n",
       "\n",
       "    .colab-df-convert {\n",
       "      background-color: #E8F0FE;\n",
       "      border: none;\n",
       "      border-radius: 50%;\n",
       "      cursor: pointer;\n",
       "      display: none;\n",
       "      fill: #1967D2;\n",
       "      height: 32px;\n",
       "      padding: 0 0 0 0;\n",
       "      width: 32px;\n",
       "    }\n",
       "\n",
       "    .colab-df-convert:hover {\n",
       "      background-color: #E2EBFA;\n",
       "      box-shadow: 0px 1px 2px rgba(60, 64, 67, 0.3), 0px 1px 3px 1px rgba(60, 64, 67, 0.15);\n",
       "      fill: #174EA6;\n",
       "    }\n",
       "\n",
       "    .colab-df-buttons div {\n",
       "      margin-bottom: 4px;\n",
       "    }\n",
       "\n",
       "    [theme=dark] .colab-df-convert {\n",
       "      background-color: #3B4455;\n",
       "      fill: #D2E3FC;\n",
       "    }\n",
       "\n",
       "    [theme=dark] .colab-df-convert:hover {\n",
       "      background-color: #434B5C;\n",
       "      box-shadow: 0px 1px 3px 1px rgba(0, 0, 0, 0.15);\n",
       "      filter: drop-shadow(0px 1px 2px rgba(0, 0, 0, 0.3));\n",
       "      fill: #FFFFFF;\n",
       "    }\n",
       "  </style>\n",
       "\n",
       "    <script>\n",
       "      const buttonEl =\n",
       "        document.querySelector('#df-e49edc77-09cf-4f92-a5f0-653268d945ff button.colab-df-convert');\n",
       "      buttonEl.style.display =\n",
       "        google.colab.kernel.accessAllowed ? 'block' : 'none';\n",
       "\n",
       "      async function convertToInteractive(key) {\n",
       "        const element = document.querySelector('#df-e49edc77-09cf-4f92-a5f0-653268d945ff');\n",
       "        const dataTable =\n",
       "          await google.colab.kernel.invokeFunction('convertToInteractive',\n",
       "                                                    [key], {});\n",
       "        if (!dataTable) return;\n",
       "\n",
       "        const docLinkHtml = 'Like what you see? Visit the ' +\n",
       "          '<a target=\"_blank\" href=https://colab.research.google.com/notebooks/data_table.ipynb>data table notebook</a>'\n",
       "          + ' to learn more about interactive tables.';\n",
       "        element.innerHTML = '';\n",
       "        dataTable['output_type'] = 'display_data';\n",
       "        await google.colab.output.renderOutput(dataTable, element);\n",
       "        const docLink = document.createElement('div');\n",
       "        docLink.innerHTML = docLinkHtml;\n",
       "        element.appendChild(docLink);\n",
       "      }\n",
       "    </script>\n",
       "  </div>\n",
       "\n",
       "\n",
       "<div id=\"df-a81a0505-0360-48e8-9aa5-4b3e068fdf86\">\n",
       "  <button class=\"colab-df-quickchart\" onclick=\"quickchart('df-a81a0505-0360-48e8-9aa5-4b3e068fdf86')\"\n",
       "            title=\"Suggest charts\"\n",
       "            style=\"display:none;\">\n",
       "\n",
       "<svg xmlns=\"http://www.w3.org/2000/svg\" height=\"24px\"viewBox=\"0 0 24 24\"\n",
       "     width=\"24px\">\n",
       "    <g>\n",
       "        <path d=\"M19 3H5c-1.1 0-2 .9-2 2v14c0 1.1.9 2 2 2h14c1.1 0 2-.9 2-2V5c0-1.1-.9-2-2-2zM9 17H7v-7h2v7zm4 0h-2V7h2v10zm4 0h-2v-4h2v4z\"/>\n",
       "    </g>\n",
       "</svg>\n",
       "  </button>\n",
       "\n",
       "<style>\n",
       "  .colab-df-quickchart {\n",
       "      --bg-color: #E8F0FE;\n",
       "      --fill-color: #1967D2;\n",
       "      --hover-bg-color: #E2EBFA;\n",
       "      --hover-fill-color: #174EA6;\n",
       "      --disabled-fill-color: #AAA;\n",
       "      --disabled-bg-color: #DDD;\n",
       "  }\n",
       "\n",
       "  [theme=dark] .colab-df-quickchart {\n",
       "      --bg-color: #3B4455;\n",
       "      --fill-color: #D2E3FC;\n",
       "      --hover-bg-color: #434B5C;\n",
       "      --hover-fill-color: #FFFFFF;\n",
       "      --disabled-bg-color: #3B4455;\n",
       "      --disabled-fill-color: #666;\n",
       "  }\n",
       "\n",
       "  .colab-df-quickchart {\n",
       "    background-color: var(--bg-color);\n",
       "    border: none;\n",
       "    border-radius: 50%;\n",
       "    cursor: pointer;\n",
       "    display: none;\n",
       "    fill: var(--fill-color);\n",
       "    height: 32px;\n",
       "    padding: 0;\n",
       "    width: 32px;\n",
       "  }\n",
       "\n",
       "  .colab-df-quickchart:hover {\n",
       "    background-color: var(--hover-bg-color);\n",
       "    box-shadow: 0 1px 2px rgba(60, 64, 67, 0.3), 0 1px 3px 1px rgba(60, 64, 67, 0.15);\n",
       "    fill: var(--button-hover-fill-color);\n",
       "  }\n",
       "\n",
       "  .colab-df-quickchart-complete:disabled,\n",
       "  .colab-df-quickchart-complete:disabled:hover {\n",
       "    background-color: var(--disabled-bg-color);\n",
       "    fill: var(--disabled-fill-color);\n",
       "    box-shadow: none;\n",
       "  }\n",
       "\n",
       "  .colab-df-spinner {\n",
       "    border: 2px solid var(--fill-color);\n",
       "    border-color: transparent;\n",
       "    border-bottom-color: var(--fill-color);\n",
       "    animation:\n",
       "      spin 1s steps(1) infinite;\n",
       "  }\n",
       "\n",
       "  @keyframes spin {\n",
       "    0% {\n",
       "      border-color: transparent;\n",
       "      border-bottom-color: var(--fill-color);\n",
       "      border-left-color: var(--fill-color);\n",
       "    }\n",
       "    20% {\n",
       "      border-color: transparent;\n",
       "      border-left-color: var(--fill-color);\n",
       "      border-top-color: var(--fill-color);\n",
       "    }\n",
       "    30% {\n",
       "      border-color: transparent;\n",
       "      border-left-color: var(--fill-color);\n",
       "      border-top-color: var(--fill-color);\n",
       "      border-right-color: var(--fill-color);\n",
       "    }\n",
       "    40% {\n",
       "      border-color: transparent;\n",
       "      border-right-color: var(--fill-color);\n",
       "      border-top-color: var(--fill-color);\n",
       "    }\n",
       "    60% {\n",
       "      border-color: transparent;\n",
       "      border-right-color: var(--fill-color);\n",
       "    }\n",
       "    80% {\n",
       "      border-color: transparent;\n",
       "      border-right-color: var(--fill-color);\n",
       "      border-bottom-color: var(--fill-color);\n",
       "    }\n",
       "    90% {\n",
       "      border-color: transparent;\n",
       "      border-bottom-color: var(--fill-color);\n",
       "    }\n",
       "  }\n",
       "</style>\n",
       "\n",
       "  <script>\n",
       "    async function quickchart(key) {\n",
       "      const quickchartButtonEl =\n",
       "        document.querySelector('#' + key + ' button');\n",
       "      quickchartButtonEl.disabled = true;  // To prevent multiple clicks.\n",
       "      quickchartButtonEl.classList.add('colab-df-spinner');\n",
       "      try {\n",
       "        const charts = await google.colab.kernel.invokeFunction(\n",
       "            'suggestCharts', [key], {});\n",
       "      } catch (error) {\n",
       "        console.error('Error during call to suggestCharts:', error);\n",
       "      }\n",
       "      quickchartButtonEl.classList.remove('colab-df-spinner');\n",
       "      quickchartButtonEl.classList.add('colab-df-quickchart-complete');\n",
       "    }\n",
       "    (() => {\n",
       "      let quickchartButtonEl =\n",
       "        document.querySelector('#df-a81a0505-0360-48e8-9aa5-4b3e068fdf86 button');\n",
       "      quickchartButtonEl.style.display =\n",
       "        google.colab.kernel.accessAllowed ? 'block' : 'none';\n",
       "    })();\n",
       "  </script>\n",
       "</div>\n",
       "\n",
       "    </div>\n",
       "  </div>\n"
      ],
      "text/plain": [
       "                                              review sentiment\n",
       "0  One of the other reviewers has mentioned that ...  positive\n",
       "1  A wonderful little production. <br /><br />The...  positive\n",
       "2  I thought this was a wonderful way to spend ti...  positive\n",
       "3  Basically there's a family where a little boy ...  negative\n",
       "4  Petter Mattei's \"Love in the Time of Money\" is...  positive"
      ]
     },
     "execution_count": 4,
     "metadata": {},
     "output_type": "execute_result"
    }
   ],
   "source": [
    "df.head()"
   ]
  },
  {
   "cell_type": "code",
   "execution_count": null,
   "metadata": {
    "colab": {
     "base_uri": "https://localhost:8080/"
    },
    "id": "I5i16e3oUPvq",
    "outputId": "2b4fa8b1-88b6-4037-f5eb-20dc25f4aa38"
   },
   "outputs": [
    {
     "name": "stdout",
     "output_type": "stream",
     "text": [
      "<class 'pandas.core.frame.DataFrame'>\n",
      "RangeIndex: 50000 entries, 0 to 49999\n",
      "Data columns (total 2 columns):\n",
      " #   Column     Non-Null Count  Dtype \n",
      "---  ------     --------------  ----- \n",
      " 0   review     50000 non-null  object\n",
      " 1   sentiment  50000 non-null  object\n",
      "dtypes: object(2)\n",
      "memory usage: 781.4+ KB\n"
     ]
    }
   ],
   "source": [
    "df.info()"
   ]
  },
  {
   "cell_type": "code",
   "execution_count": null,
   "metadata": {
    "colab": {
     "base_uri": "https://localhost:8080/"
    },
    "id": "4hJ7tay9USsr",
    "outputId": "5db75d2e-7f22-423f-ba87-783b368ce234"
   },
   "outputs": [
    {
     "data": {
      "text/html": [
       "<div>\n",
       "<style scoped>\n",
       "    .dataframe tbody tr th:only-of-type {\n",
       "        vertical-align: middle;\n",
       "    }\n",
       "\n",
       "    .dataframe tbody tr th {\n",
       "        vertical-align: top;\n",
       "    }\n",
       "\n",
       "    .dataframe thead th {\n",
       "        text-align: right;\n",
       "    }\n",
       "</style>\n",
       "<table border=\"1\" class=\"dataframe\">\n",
       "  <thead>\n",
       "    <tr style=\"text-align: right;\">\n",
       "      <th></th>\n",
       "      <th>count</th>\n",
       "    </tr>\n",
       "    <tr>\n",
       "      <th>sentiment</th>\n",
       "      <th></th>\n",
       "    </tr>\n",
       "  </thead>\n",
       "  <tbody>\n",
       "    <tr>\n",
       "      <th>positive</th>\n",
       "      <td>25000</td>\n",
       "    </tr>\n",
       "    <tr>\n",
       "      <th>negative</th>\n",
       "      <td>25000</td>\n",
       "    </tr>\n",
       "  </tbody>\n",
       "</table>\n",
       "</div><br><label><b>dtype:</b> int64</label>"
      ],
      "text/plain": [
       "sentiment\n",
       "positive    25000\n",
       "negative    25000\n",
       "Name: count, dtype: int64"
      ]
     },
     "execution_count": 6,
     "metadata": {},
     "output_type": "execute_result"
    }
   ],
   "source": [
    "df['sentiment'].value_counts()"
   ]
  },
  {
   "cell_type": "code",
   "execution_count": null,
   "metadata": {
    "colab": {
     "base_uri": "https://localhost:8080/"
    },
    "id": "UnkUhtxzUmdx",
    "outputId": "81a1f90d-3a9b-49ca-ba05-8c109e4a0847"
   },
   "outputs": [
    {
     "name": "stdout",
     "output_type": "stream",
     "text": [
      "A wonderful little production. <br /><br />The filming technique is very unassuming- very old-time-BBC fashion and gives a comforting, and sometimes discomforting, sense of realism to the entire piece. <br /><br />The actors are extremely well chosen- Michael Sheen not only \"has got all the polari\" but he has all the voices down pat too! You can truly see the seamless editing guided by the references to Williams' diary entries, not only is it well worth the watching but it is a terrificly written and performed piece. A masterful production about one of the great master's of comedy and his life. <br /><br />The realism really comes home with the little things: the fantasy of the guard which, rather than use the traditional 'dream' techniques remains solid then disappears. It plays on our knowledge and our senses, particularly with the scenes concerning Orton and Halliwell and the sets (particularly of their flat with Halliwell's murals decorating every surface) are terribly well done.\n"
     ]
    }
   ],
   "source": [
    "print(df.iloc[1, 0])"
   ]
  },
  {
   "cell_type": "markdown",
   "metadata": {
    "id": "h4hHRSunUJFy"
   },
   "source": [
    "## **1. Normalizing Textual Data in NLP**"
   ]
  },
  {
   "cell_type": "markdown",
   "metadata": {
    "id": "xyx95JY1Ws6w"
   },
   "source": [
    "**Normalizing textual data** is a crucial preprocessing step in NLP that helps standardize and clean the text before feeding it into a model. This process involves transforming the text into a consistent format to reduce variability caused by differences in capitalization, punctuation, or formatting. Common normalization techniques include converting all text to lowercase, removing punctuation, expanding contractions (e.g., \"don't\" to \"do not\"), and removing extra whitespace. Normalization helps improve model performance by ensuring that semantically identical words are treated the same, ultimately leading to more accurate and efficient analysis."
   ]
  },
  {
   "cell_type": "markdown",
   "metadata": {
    "id": "VbJruXrRVS1p"
   },
   "source": [
    "### **1. Regular expressions**"
   ]
  },
  {
   "cell_type": "markdown",
   "metadata": {
    "id": "XfpM5xkJugun"
   },
   "source": [
    "**Regular expressions**, often abbreviated as regex, are powerful tools used in NLP for pattern matching and text manipulation. They allow us to search for specific sequences of characters within text, making it easier to identify and extract patterns such as email addresses, phone numbers, dates, or specific word formats. In the context of preprocessing, regular expressions are commonly used to remove unwanted characters, tokenize text, or clean noisy data."
   ]
  },
  {
   "cell_type": "markdown",
   "metadata": {
    "id": "FPA1mxysveB-"
   },
   "source": [
    "In this step, we will clean and normalize the text data using regular expressions. The following operations will be performed:\n",
    "\n",
    "1. **Remove all HTML markup** – Text data may contain HTML tags, especially in datasets sourced from the web. These tags are irrelevant for sentiment analysis and will be stripped out to retain only the raw text.\n",
    "2. **Extract emoticons** – Emoticons like :-) or :D often carry important sentiment cues. We will identify and extract them using regex, remove the \"nose\" character (e.g., the hyphen in \":-)\"), and append the cleaned emoticons to the end of the text to preserve their sentiment while ensuring consistency in format.\n",
    "3. **Remove all non-word characters** – To reduce noise, we will eliminate any characters that are not letters, digits, or underscores. This includes punctuation and special symbols that do not contribute meaningful information for our analysis.\n",
    "4. **Convert all text to lowercase** – Standardizing the text to lowercase ensures that words like “Good” and “good” are treated as the same token, reducing redundancy in the data."
   ]
  },
  {
   "cell_type": "code",
   "execution_count": null,
   "metadata": {
    "id": "3dRvguqHvg52"
   },
   "outputs": [],
   "source": [
    "import re\n",
    "\n",
    "def text_preprocessor(text):\n",
    "    # Remove HTML tags using a regular expression\n",
    "    text = re.sub('<[^>]*>', '', text)\n",
    "\n",
    "    # Find all emoticons (e.g., :-) using a regular expression\n",
    "    emoticons = re.findall('(?::|;|=)(?:-)?(?:\\)|\\(|D|P)', text)\n",
    "\n",
    "    # Convert text to lowercase and remove all non-word characters (punctuation, symbols, etc.)\n",
    "    text = re.sub('[\\W]+', ' ', text.lower())\n",
    "\n",
    "    # Append the emoticons at the end of the text after removing the \"nose\" (-) for consistency\n",
    "    text += ''.join(emoticons).replace('-', '')\n",
    "\n",
    "    return text"
   ]
  },
  {
   "cell_type": "code",
   "execution_count": null,
   "metadata": {
    "id": "wZ18CIkcyv31"
   },
   "outputs": [],
   "source": [
    "df['review'] = df['review'].apply(text_preprocessor)"
   ]
  },
  {
   "cell_type": "code",
   "execution_count": null,
   "metadata": {
    "colab": {
     "base_uri": "https://localhost:8080/",
     "height": 174
    },
    "id": "X2pZz4Vsy5cD",
    "outputId": "f2942d5a-6ee5-4327-cb99-41009014b66a"
   },
   "outputs": [
    {
     "data": {
      "application/vnd.google.colaboratory.intrinsic+json": {
       "type": "string"
      },
      "text/plain": [
       "'a wonderful little production the filming technique is very unassuming very old time bbc fashion and gives a comforting and sometimes discomforting sense of realism to the entire piece the actors are extremely well chosen michael sheen not only has got all the polari but he has all the voices down pat too you can truly see the seamless editing guided by the references to williams diary entries not only is it well worth the watching but it is a terrificly written and performed piece a masterful production about one of the great master s of comedy and his life the realism really comes home with the little things the fantasy of the guard which rather than use the traditional dream techniques remains solid then disappears it plays on our knowledge and our senses particularly with the scenes concerning orton and halliwell and the sets particularly of their flat with halliwell s murals decorating every surface are terribly well done '"
      ]
     },
     "execution_count": 10,
     "metadata": {},
     "output_type": "execute_result"
    }
   ],
   "source": [
    "df.iloc[1, 0]"
   ]
  },
  {
   "cell_type": "markdown",
   "metadata": {
    "id": "3_SgeqdFSmb6"
   },
   "source": [
    "### **2. Tokenization**"
   ]
  },
  {
   "cell_type": "markdown",
   "metadata": {
    "id": "wSjDLKiUyXus"
   },
   "source": [
    "**Tokenization** is the process of breaking down text into smaller units called *tokens*. These tokens can be words, subwords, or even characters, depending on the level of granularity needed. In NLP, tokenization is one of the first and most essential steps, as it transforms raw text into a structured format that models can understand and process.\n",
    "\n",
    "There are different types of tokenization:\n",
    "- **Word tokenization**: Splits text into individual words.\n",
    "- **Sentence tokenization**: Divides text into sentences.\n",
    "- **Subword or character tokenization**: Breaks words into smaller pieces, useful in languages with rich morphology or when handling unknown words.\n",
    "\n",
    "By applying tokenization, we enable efficient analysis and modeling of textual data."
   ]
  },
  {
   "cell_type": "markdown",
   "metadata": {
    "id": "I9bdPQJP1j7B"
   },
   "source": [
    "#### **Basic Word Tokenization with NLTK or `split()`**\n"
   ]
  },
  {
   "cell_type": "markdown",
   "metadata": {
    "id": "gzWb-l0e0hJ7"
   },
   "source": [
    "##### 1. Using Python’s `split()` Method\n",
    "\n",
    "- **Description**: The `split()` method splits a string into a list based on whitespace by default. It’s a straightforward method but does not handle punctuation or special characters well.\n",
    "- **Best Use Case**: Quick, simple tokenization when you don’t need complex handling of punctuation or special cases.\n",
    "\n",
    "\n",
    "\n",
    "\n",
    "\n",
    "\n",
    "\n",
    "\n"
   ]
  },
  {
   "cell_type": "code",
   "execution_count": null,
   "metadata": {
    "colab": {
     "base_uri": "https://localhost:8080/"
    },
    "id": "Lk4_xHKj1n35",
    "outputId": "711dfa95-67ed-4c6b-e347-34404077792f"
   },
   "outputs": [
    {
     "name": "stdout",
     "output_type": "stream",
     "text": [
      "['a', 'wonderful', 'little', 'production', 'the', 'filming', 'technique', 'is', 'very', 'unassuming', 'very', 'old', 'time', 'bbc', 'fashion', 'and', 'gives', 'a', 'comforting', 'and', 'sometimes', 'discomforting', 'sense', 'of', 'realism', 'to', 'the', 'entire', 'piece', 'the', 'actors', 'are', 'extremely', 'well', 'chosen', 'michael', 'sheen', 'not', 'only', 'has', 'got', 'all', 'the', 'polari', 'but', 'he', 'has', 'all', 'the', 'voices', 'down', 'pat', 'too', 'you', 'can', 'truly', 'see', 'the', 'seamless', 'editing', 'guided', 'by', 'the', 'references', 'to', 'williams', 'diary', 'entries', 'not', 'only', 'is', 'it', 'well', 'worth', 'the', 'watching', 'but', 'it', 'is', 'a', 'terrificly', 'written', 'and', 'performed', 'piece', 'a', 'masterful', 'production', 'about', 'one', 'of', 'the', 'great', 'master', 's', 'of', 'comedy', 'and', 'his', 'life', 'the', 'realism', 'really', 'comes', 'home', 'with', 'the', 'little', 'things', 'the', 'fantasy', 'of', 'the', 'guard', 'which', 'rather', 'than', 'use', 'the', 'traditional', 'dream', 'techniques', 'remains', 'solid', 'then', 'disappears', 'it', 'plays', 'on', 'our', 'knowledge', 'and', 'our', 'senses', 'particularly', 'with', 'the', 'scenes', 'concerning', 'orton', 'and', 'halliwell', 'and', 'the', 'sets', 'particularly', 'of', 'their', 'flat', 'with', 'halliwell', 's', 'murals', 'decorating', 'every', 'surface', 'are', 'terribly', 'well', 'done']\n"
     ]
    }
   ],
   "source": [
    "text = df.iloc[1, 0]\n",
    "tokens = text.split()\n",
    "print(tokens)"
   ]
  },
  {
   "cell_type": "markdown",
   "metadata": {
    "id": "2Sa9zuoX1_Xr"
   },
   "source": [
    "\n",
    "##### 2. Using NLTK’s `word_tokenize()`\n",
    "\n",
    "- **Description**: `word_tokenize()` from the NLTK library is a more sophisticated tokenization method. It uses regular expressions and rules to split text into words while accounting for punctuation, contractions, and other special cases.\n",
    "- **Best Use Case**: Use when you need more accurate tokenization, especially for handling punctuation and edge cases like contractions (e.g., \"I'm\" becomes \"I\" and \"am\").\n",
    "\n"
   ]
  },
  {
   "cell_type": "code",
   "execution_count": null,
   "metadata": {
    "colab": {
     "base_uri": "https://localhost:8080/"
    },
    "id": "JNtd6MJ_13Ey",
    "outputId": "41527a24-9a97-4b05-c240-a2b18432f73c"
   },
   "outputs": [
    {
     "name": "stdout",
     "output_type": "stream",
     "text": [
      "['This', 'is', 'an', 'example', 'sentence', '.', 'Is', \"n't\", 'it', 'cool', '?']\n"
     ]
    },
    {
     "name": "stderr",
     "output_type": "stream",
     "text": [
      "[nltk_data] Downloading package punkt_tab to /root/nltk_data...\n",
      "[nltk_data]   Unzipping tokenizers/punkt_tab.zip.\n"
     ]
    }
   ],
   "source": [
    "import nltk\n",
    "nltk.download('punkt_tab')\n",
    "\n",
    "text = \"This is an example sentence. Isn't it cool?\"\n",
    "tokens = nltk.word_tokenize(text)\n",
    "print(tokens)"
   ]
  },
  {
   "cell_type": "markdown",
   "metadata": {
    "id": "xVG7Ijbf0n2Z"
   },
   "source": [
    "#### **spaCy Tokenizer**"
   ]
  },
  {
   "cell_type": "markdown",
   "metadata": {
    "id": "NUGR36ON3dnA"
   },
   "source": [
    "spaCy is a popular NLP library known for its speed and efficiency. It provides a highly optimized tokenizer that is more sophisticated than simple methods like `split()` or `nltk.word_tokenize()`. The spaCy tokenizer takes into account linguistic features like punctuation, contractions, and token boundaries, making it a great choice for real-world text data.\n"
   ]
  },
  {
   "cell_type": "code",
   "execution_count": null,
   "metadata": {
    "colab": {
     "base_uri": "https://localhost:8080/"
    },
    "collapsed": true,
    "id": "NbeakB2D3IPy",
    "outputId": "78ae9ec8-81ee-4cc9-d690-712ccaebafad"
   },
   "outputs": [
    {
     "name": "stdout",
     "output_type": "stream",
     "text": [
      "Collecting en-core-web-sm==3.8.0\n",
      "  Downloading https://github.com/explosion/spacy-models/releases/download/en_core_web_sm-3.8.0/en_core_web_sm-3.8.0-py3-none-any.whl (12.8 MB)\n",
      "\u001b[2K     \u001b[90m━━━━━━━━━━━━━━━━━━━━━━━━━━━━━━━━━━━━━━━━\u001b[0m \u001b[32m12.8/12.8 MB\u001b[0m \u001b[31m92.1 MB/s\u001b[0m eta \u001b[36m0:00:00\u001b[0m\n",
      "\u001b[?25h\u001b[38;5;2m✔ Download and installation successful\u001b[0m\n",
      "You can now load the package via spacy.load('en_core_web_sm')\n",
      "\u001b[38;5;3m⚠ Restart to reload dependencies\u001b[0m\n",
      "If you are in a Jupyter or Colab notebook, you may need to restart Python in\n",
      "order to load all the package's dependencies. You can do this by selecting the\n",
      "'Restart kernel' or 'Restart runtime' option.\n",
      "['This', 'is', 'an', 'example', 'sentence', '.', 'Is', \"n't\", 'it', 'cool', '?']\n"
     ]
    }
   ],
   "source": [
    "!python -m spacy download en_core_web_sm\n",
    "\n",
    "import spacy\n",
    "\n",
    "# Load the pre-trained spaCy model\n",
    "nlp = spacy.load(\"en_core_web_sm\")\n",
    "\n",
    "# Example text\n",
    "text = \"This is an example sentence. Isn't it cool?\"\n",
    "\n",
    "# Process the text with spaCy to get the document object\n",
    "doc = nlp(text)\n",
    "\n",
    "# Tokenize and print each token\n",
    "tokens = [token.text for token in doc]\n",
    "print(tokens)"
   ]
  },
  {
   "cell_type": "markdown",
   "metadata": {
    "id": "UYy1vn5T2vmJ"
   },
   "source": [
    "\n",
    "\n",
    "##### **Key Features of spaCy's Tokenizer:**\n",
    "\n",
    "1. **Handles Punctuation**: Unlike `split()`, spaCy correctly splits punctuation from words, which can be critical in many NLP tasks.\n",
    "   - Example: `\"Isn't\"` becomes `[\"Is\", \"n't\"]`, which is more accurate than simply treating it as a single token.\n",
    "   \n",
    "2. **Handles Whitespace**: It automatically takes care of whitespace and ignores unnecessary spaces, so you don't have to worry about extra spaces in your text.\n",
    "\n",
    "3. **Named Entity Recognition (NER) Support**: After tokenization, you can access token attributes like part-of-speech tags, syntactic dependencies, and named entities, making it a good option for more complex NLP tasks like NER or dependency parsing.\n",
    "\n",
    "4. **Efficiency**: spaCy is optimized for performance and is well-suited for processing large amounts of text quickly.\n"
   ]
  },
  {
   "cell_type": "markdown",
   "metadata": {
    "id": "T7cJPk684FxX"
   },
   "source": [
    "#### **Subword Tokenization with Hugging Face (BERT-style)**"
   ]
  },
  {
   "cell_type": "markdown",
   "metadata": {
    "id": "KIuHkTEz6W9e"
   },
   "source": [
    "Subword tokenization is a technique often used in modern NLP models like BERT, GPT, and T5 to handle large vocabularies and unknown words. Unlike traditional word-level tokenization, subword tokenization breaks words into smaller pieces (subwords) to manage rare or out-of-vocabulary (OOV) words more effectively. This method helps improve model performance and ensures that rare words or novel tokens are represented by subword units that the model has seen during training."
   ]
  },
  {
   "cell_type": "markdown",
   "metadata": {
    "id": "2igNByHu6a8e"
   },
   "source": [
    "##### Why Use Subword Tokenization?\n",
    "\n",
    "- Vocabulary Efficiency: Reduces the vocabulary size by splitting words into smaller, frequent subword units, ensuring better coverage of words.\n",
    "\n",
    "- Dealing with Out-of-Vocabulary Words: If a word is not in the model's vocabulary, it's split into subword tokens, so the model can still process it effectively.\n",
    "\n",
    "- Example: The word \"unhappiness\" might be tokenized as ['un', '##happiness'] (or in the other way) in BERT-style tokenization, where ## indicates that \"happiness\" is a subword."
   ]
  },
  {
   "cell_type": "markdown",
   "metadata": {
    "id": "dwGN5mCT6pgg"
   },
   "source": [
    "##### Using BERT-style Subword Tokenization\n",
    "BERT uses a subword tokenization method called **WordPiece**, which splits words into smaller subword units. Here’s how to perform tokenization with the Hugging Face `BertTokenizer`:\n",
    "\n",
    "Steps to Tokenize Text with BERT-style Subword Tokenizer:\n",
    "\n",
    "- **Load the Pre-trained Tokenizer**: Hugging Face provides an easy way to load pre-trained tokenizers like BertTokenizer for various models.\n",
    "\n",
    "- **Tokenize Text**: Pass the input text to the tokenizer, which will handle the subword tokenization automatically."
   ]
  },
  {
   "cell_type": "code",
   "execution_count": null,
   "metadata": {
    "colab": {
     "base_uri": "https://localhost:8080/",
     "height": 287,
     "referenced_widgets": [
      "4e6b08cfe0134723af6cf476ee1873f1",
      "fc8b2bc6b51847baaf989d334e4bb11a",
      "7283c364e872416fa6e287930974bf2a",
      "bfc76f2d09eb40868af741a28a786c9a",
      "ab6c896b63994fc78100b7d536b4a623",
      "238057fb5fee4e0aac7e773757413026",
      "8ac57148f224412f81baea86e4a35ad9",
      "46bc4e49536145fdb7846859a219dce7",
      "f2bae6aea68c4393a5911f050cbacd20",
      "c0fc0f47732343a78035bde75ecfc6b3",
      "7eeab42d22a34b4c81c17fd0a926b697",
      "3ee94613d4fe4c0c9e65b618a8bb8711",
      "4fa7b78eaccc496b9c112c156d9ed23d",
      "337f3d96684c46c0b896add1b01302fe",
      "0ca085ec0152441d8d72287ffbf9ece7",
      "bc4f9ca37a3243d887a94b145389928f",
      "798689c8cfc24bdc81e88bfdff69af03",
      "fd550a402cda4f9a9e3d7762333805bb",
      "71ae4c35916e4f678bd589ccefd6472a",
      "45140854329d4c48b5890b45e32b5d50",
      "494020a8a2d1477f905ed6c8dc5b7bc3",
      "c15b9eb59c5f4647b6c4e110c6f677f0",
      "c107fd5136e446899237a99565ba59cc",
      "71ae534cea83468b8505bb3a7ce78de7",
      "ca807c3839d740fd9534824afefa0e69",
      "92d590bf41374161bf2fb4dbd07ac44f",
      "6cb981d4478b48909ca244d3298411ac",
      "ace8a6c6eb044449a5304012bf1c1eba",
      "b95f003c840c488a98e49e29c90b7ef2",
      "f936bf90f07e4583898b4c491ec87ccd",
      "69839c31d0b5411ba4bb634698c81495",
      "adbda85d248e4a3f81362df6573deac9",
      "64a2a4b930ca4bbcbd6b33de3747a9d5",
      "4cd7bac8b9fa47a7a8b21fbce2dabc60",
      "8d3baf358de541ef98ae8eb58d22f850",
      "ba066a72a7274829be6e3aa2ac0dceb4",
      "df628c58dcf0414dba8a624f192c285d",
      "799cdb95642546b78150020915ace7b7",
      "a09840f6a81341de8df8ad71bb5b911a",
      "8ad7efdd16b04dc4a442adc37dd534ae",
      "72cdd7adf95f4fbda23b19c4aca30e33",
      "a6025cbe44fd44f0bb843809d626b972",
      "cde4db99be1146e288b5215541d2d1af",
      "451c3a5f01c74629a0daa49bee07dfe7"
     ]
    },
    "id": "4Iq6pzGp686n",
    "outputId": "8ea26213-070e-43c8-837e-f18b39d4c7bc"
   },
   "outputs": [
    {
     "name": "stderr",
     "output_type": "stream",
     "text": [
      "/usr/local/lib/python3.11/dist-packages/huggingface_hub/utils/_auth.py:94: UserWarning: \n",
      "The secret `HF_TOKEN` does not exist in your Colab secrets.\n",
      "To authenticate with the Hugging Face Hub, create a token in your settings tab (https://huggingface.co/settings/tokens), set it as secret in your Google Colab and restart your session.\n",
      "You will be able to reuse this secret in all of your notebooks.\n",
      "Please note that authentication is recommended but still optional to access public models or datasets.\n",
      "  warnings.warn(\n"
     ]
    },
    {
     "data": {
      "application/vnd.jupyter.widget-view+json": {
       "model_id": "4e6b08cfe0134723af6cf476ee1873f1",
       "version_major": 2,
       "version_minor": 0
      },
      "text/plain": [
       "tokenizer_config.json:   0%|          | 0.00/48.0 [00:00<?, ?B/s]"
      ]
     },
     "metadata": {},
     "output_type": "display_data"
    },
    {
     "data": {
      "application/vnd.jupyter.widget-view+json": {
       "model_id": "3ee94613d4fe4c0c9e65b618a8bb8711",
       "version_major": 2,
       "version_minor": 0
      },
      "text/plain": [
       "vocab.txt:   0%|          | 0.00/232k [00:00<?, ?B/s]"
      ]
     },
     "metadata": {},
     "output_type": "display_data"
    },
    {
     "data": {
      "application/vnd.jupyter.widget-view+json": {
       "model_id": "c107fd5136e446899237a99565ba59cc",
       "version_major": 2,
       "version_minor": 0
      },
      "text/plain": [
       "tokenizer.json:   0%|          | 0.00/466k [00:00<?, ?B/s]"
      ]
     },
     "metadata": {},
     "output_type": "display_data"
    },
    {
     "data": {
      "application/vnd.jupyter.widget-view+json": {
       "model_id": "4cd7bac8b9fa47a7a8b21fbce2dabc60",
       "version_major": 2,
       "version_minor": 0
      },
      "text/plain": [
       "config.json:   0%|          | 0.00/570 [00:00<?, ?B/s]"
      ]
     },
     "metadata": {},
     "output_type": "display_data"
    },
    {
     "name": "stdout",
     "output_type": "stream",
     "text": [
      "['i', \"'\", 'm', 'very', 'unhappy', 'because', 'my', 'python', 'code', 'doesn', \"'\", 't', 'work', '!', 'un', '##ha', '##pp', '##iness', 'isn', \"'\", 't', 'good', 'for', 'my', 'health', '.']\n"
     ]
    }
   ],
   "source": [
    "from transformers import BertTokenizer\n",
    "\n",
    "# Load the pre-trained BERT tokenizer\n",
    "tokenizer = BertTokenizer.from_pretrained('bert-base-uncased')\n",
    "\n",
    "# Example text\n",
    "text = \"I'm very unhappy because my python code doesn't work! Unhappiness isn't good for my health.\"\n",
    "\n",
    "# Tokenize the text\n",
    "tokens = tokenizer.tokenize(text)\n",
    "print(tokens)"
   ]
  },
  {
   "cell_type": "markdown",
   "metadata": {
    "id": "xVdiyFaK4K9C"
   },
   "source": [
    "#### **Sentence and character tokenization**"
   ]
  },
  {
   "cell_type": "markdown",
   "metadata": {
    "id": "KEKWfj-E8eze"
   },
   "source": [
    "While word tokenization is the most common method in NLP, there are other forms of tokenization that can be helpful for specific tasks or datasets. These include sentence tokenization and character tokenization."
   ]
  },
  {
   "cell_type": "markdown",
   "metadata": {
    "id": "dOzp8tVd8hbM"
   },
   "source": [
    "##### 1. Sentence Tokenization\n",
    "Sentence tokenization is the process of splitting a text into individual sentences. This is useful when you want to analyze text at the sentence level rather than at the word level. For example, sentence tokenization is often used in tasks like machine translation, text summarization, and sentiment analysis when the context of entire sentences is crucial."
   ]
  },
  {
   "cell_type": "code",
   "execution_count": null,
   "metadata": {
    "colab": {
     "base_uri": "https://localhost:8080/"
    },
    "id": "W3-EhnWm8p0d",
    "outputId": "a9b15753-5b9c-4a43-f86e-bef1f34e1476"
   },
   "outputs": [
    {
     "name": "stdout",
     "output_type": "stream",
     "text": [
      "['This is a sentence.', 'This is another sentence.', 'Finally, this is the third and last sentaence']\n"
     ]
    },
    {
     "name": "stderr",
     "output_type": "stream",
     "text": [
      "[nltk_data] Downloading package punkt_tab to /root/nltk_data...\n",
      "[nltk_data]   Package punkt_tab is already up-to-date!\n"
     ]
    }
   ],
   "source": [
    "import nltk\n",
    "nltk.download('punkt_tab')\n",
    "\n",
    "text = \"This is a sentence. This is another sentence. Finally, this is the third and last sentaence\"\n",
    "sentences = nltk.sent_tokenize(text)\n",
    "print(sentences)"
   ]
  },
  {
   "cell_type": "markdown",
   "metadata": {
    "id": "ataErbM283DF"
   },
   "source": [
    "##### 2. Character Tokenization\n",
    "Character tokenization involves breaking down text into individual characters. While word and sentence tokenization focus on linguistic units like words and sentences, character tokenization treats each character (including letters, numbers, punctuation, and spaces) as a token. This method is particularly useful in tasks like character-level language modeling, text generation, or dealing with complex languages that don't separate words with spaces."
   ]
  },
  {
   "cell_type": "code",
   "execution_count": null,
   "metadata": {
    "colab": {
     "base_uri": "https://localhost:8080/"
    },
    "id": "KtNndwlt8_Xm",
    "outputId": "95bb88f1-cb85-4666-b8d1-0f0285cbadad"
   },
   "outputs": [
    {
     "name": "stdout",
     "output_type": "stream",
     "text": [
      "['M', 'y', ' ', 'c', 'u', 's', 't', 'o', 'm', ' ', 's', 'e', 'n', 't', 'e', 'n', 'c', 'e']\n"
     ]
    }
   ],
   "source": [
    "text = \"My custom sentence\"\n",
    "\n",
    "char_tokens = list(text)\n",
    "print(char_tokens)"
   ]
  },
  {
   "cell_type": "markdown",
   "metadata": {
    "id": "W_yyx8hx4mlY"
   },
   "source": [
    "####  **Tokenization in our dataset**"
   ]
  },
  {
   "cell_type": "markdown",
   "metadata": {
    "id": "cjzFVg3M4xff"
   },
   "source": [
    "Since we have already performed extensive preprocessing on our text data—such as removing HTML markup, normalizing the case, handling emoticons, and eliminating unnecessary non-word characters—our text is now in a clean and consistent state. At this point, we can proceed with simple word tokenization."
   ]
  },
  {
   "cell_type": "code",
   "execution_count": null,
   "metadata": {
    "id": "qRUpwagK5CAO"
   },
   "outputs": [],
   "source": [
    "def tokenizer(text):\n",
    "    text = text.split()\n",
    "    return text"
   ]
  },
  {
   "cell_type": "markdown",
   "metadata": {
    "id": "2YjpjUWP6IhP"
   },
   "source": [
    "However, we will not perform tokenization at this stage. Instead, we will first familiarize ourselves with lemmatization and stemming, as these techniques will help further refine the tokens by reducing words to their base or root forms. Once we understand these techniques, we will apply them to our tokenized data."
   ]
  },
  {
   "cell_type": "markdown",
   "metadata": {
    "id": "_JnzCe7tsyM3"
   },
   "source": [
    "### **3.Stemming and Lemmatization**"
   ]
  },
  {
   "cell_type": "markdown",
   "metadata": {
    "id": "fclR3qgp-ZSy"
   },
   "source": [
    "Both **lemmatization** and **stemming** are techniques used in natural language processing (NLP) to reduce words to their root forms. While they share the goal of normalizing words to improve text analysis and modeling, they differ significantly in their methods and outcomes.\n",
    "\n",
    "#### **Stemming**:\n",
    "- **Definition**: Stemming reduces a word to its base or root form by removing prefixes and suffixes using heuristic rules. It doesn’t guarantee that the resulting root is a valid word in the dictionary.\n",
    "- **Example**:\n",
    "  - \"running\" → \"run\"\n",
    "  - \"happiness\" → \"happi\"\n",
    "- **Advantages**:\n",
    "  - Faster than lemmatization.\n",
    "  - Reduces the vocabulary size by cutting down on different word forms.\n",
    "- **Disadvantages**:\n",
    "  - Less accurate because it can produce non-standard word forms (e.g., \"happi\").\n",
    "  - Sometimes results in over-stemming or under-stemming.\n",
    "  \n",
    "\n",
    "\n"
   ]
  },
  {
   "cell_type": "code",
   "execution_count": null,
   "metadata": {
    "colab": {
     "base_uri": "https://localhost:8080/"
    },
    "id": "-pu2kyB1-8fk",
    "outputId": "ba6e7c8f-f2dd-4707-df90-ec57f3eb3d07"
   },
   "outputs": [
    {
     "data": {
      "text/plain": [
       "['runner', 'like', 'run', 'and', 'thu', 'they', 'run']"
      ]
     },
     "execution_count": 18,
     "metadata": {},
     "output_type": "execute_result"
    }
   ],
   "source": [
    "# Importing the PorterStemmer class from NLTK library\n",
    "from nltk.stem.porter import PorterStemmer\n",
    "\n",
    "# Create an instance of PorterStemmer\n",
    "porter = PorterStemmer()\n",
    "\n",
    "# Function for tokenizing and stemming a given text\n",
    "def tokenizer_porter(text):\n",
    "    return [porter.stem(word) for word in text.split()]\n",
    "\n",
    "tokenizer_porter('runners like running and thus they run')"
   ]
  },
  {
   "cell_type": "markdown",
   "metadata": {
    "id": "6PIxj_Ad-02h"
   },
   "source": [
    "#### **Lemmatization**:\n",
    "- **Definition**: Lemmatization reduces a word to its base form (lemma), but it ensures that the resulting word is valid and meaningful. This process typically requires knowledge of the word's part of speech (POS) and uses a dictionary for lookup.\n",
    "- **Example**:\n",
    "  - \"running\" → \"run\"\n",
    "  - \"better\" → \"good\"\n",
    "- **Advantages**:\n",
    "  - More accurate because it returns valid words.\n",
    "  - Context-aware, ensuring the proper lemma based on the word's usage.\n",
    "- **Disadvantages**:\n",
    "  - Slower than stemming due to dictionary lookups and POS tagging.\n",
    "  - More computationally intensive.\n"
   ]
  },
  {
   "cell_type": "code",
   "execution_count": null,
   "metadata": {
    "colab": {
     "base_uri": "https://localhost:8080/"
    },
    "id": "x0ZSAK5p-9Fq",
    "outputId": "b6efda3e-a932-43ff-be19-646d26618113"
   },
   "outputs": [
    {
     "name": "stderr",
     "output_type": "stream",
     "text": [
      "[nltk_data] Downloading package punkt_tab to /root/nltk_data...\n",
      "[nltk_data]   Package punkt_tab is already up-to-date!\n",
      "[nltk_data] Downloading package wordnet to /root/nltk_data...\n"
     ]
    },
    {
     "name": "stdout",
     "output_type": "stream",
     "text": [
      "Original sentence: The cats are running faster than the dogs, but dogs are better\n",
      "Lemmatized sentence: The cat are running faster than the dog , but dog are better\n"
     ]
    }
   ],
   "source": [
    "import nltk\n",
    "from nltk.stem import WordNetLemmatizer\n",
    "from nltk.tokenize import word_tokenize\n",
    "\n",
    "# Download necessary NLTK resources\n",
    "nltk.download('punkt_tab')\n",
    "nltk.download('wordnet')\n",
    "\n",
    "# Create a lemmatizer object\n",
    "lemmatizer = WordNetLemmatizer()\n",
    "\n",
    "# Example sentence\n",
    "sentence = \"The cats are running faster than the dogs, but dogs are better\"\n",
    "\n",
    "# Tokenizing the sentence\n",
    "words = word_tokenize(sentence)\n",
    "\n",
    "# Lemmatizing each word\n",
    "lemmatized_words = [lemmatizer.lemmatize(word) for word in words]\n",
    "\n",
    "# Output the lemmatized words\n",
    "print(\"Original sentence:\", sentence)\n",
    "print(\"Lemmatized sentence:\", ' '.join(lemmatized_words))\n"
   ]
  },
  {
   "cell_type": "markdown",
   "metadata": {
    "id": "sEi2fS8qBa04"
   },
   "source": [
    "##### Important Note on Lemmatization in NLTK\n",
    "When performing lemmatization using NLTK's WordNetLemmatizer, it's important to specify the part of speech (POS) if you want accurate results, especially for words that can have different forms depending on their usage.\n",
    "\n",
    "- For example, the word \"running\" can either be a verb (e.g., \"I am running\") or a noun (e.g., \"the running of the race\"). By default, lemmatizer.lemmatize() assumes the word is a noun, which may not always give the expected result (e.g., \"running\" → \"running\")."
   ]
  },
  {
   "cell_type": "code",
   "execution_count": null,
   "metadata": {
    "colab": {
     "base_uri": "https://localhost:8080/"
    },
    "id": "SipBouCnA2Qb",
    "outputId": "72e4c9b1-3882-4591-88db-2358e4440a80"
   },
   "outputs": [
    {
     "name": "stdout",
     "output_type": "stream",
     "text": [
      "good\n",
      "run\n"
     ]
    }
   ],
   "source": [
    "# For a noun like \"happiness\"\n",
    "lemmatized_better = lemmatizer.lemmatize(\"better\", pos='a')\n",
    "\n",
    "# For a verb like \"running\"\n",
    "lemmatized_running = lemmatizer.lemmatize(\"running\", pos='v')\n",
    "\n",
    "print(lemmatized_better)\n",
    "print(lemmatized_running)"
   ]
  },
  {
   "cell_type": "markdown",
   "metadata": {
    "id": "DOZhxRbNtGWS"
   },
   "source": [
    "### **4. Stopword removal**"
   ]
  },
  {
   "cell_type": "markdown",
   "metadata": {
    "id": "4BeJqBGYJBbS"
   },
   "source": [
    "A **stop word** is a commonly used word (such as “the”, “a”, “an”, or “in”) that a search engine has been programmed to ignore, both when indexing entries for searching and when retrieving them as the result of a search query."
   ]
  },
  {
   "cell_type": "markdown",
   "metadata": {
    "id": "yJbUbV7tJdKH"
   },
   "source": [
    "#### Types of Stopwords\n",
    "\n",
    "Stopwords are common words in a language that are often removed during NLP tasks because they carry little meaningful information. The list of stopwords can vary depending on the language, domain, and specific task. Here are the main types:\n",
    "\n",
    "- **Common Stopwords**: Frequently used words like \"the,\" \"is,\" \"in,\" \"to,\" that are generally removed during preprocessing.\n",
    "\n",
    "- **Custom Stopwords**: Task- or domain-specific words that may not add value to the analysis. For instance, words like \"patient\" or \"treatment\" in a medical dataset.\n",
    "\n",
    "- **Numerical Stopwords**: Numbers or numeric characters may be excluded when they are not relevant to the analysis.\n",
    "\n",
    "- **Single-Character Stopwords**: Letters like \"a,\" \"I,\" or \"s\" may be removed if they don’t contribute meaningful content.\n",
    "\n",
    "- **Contextual Stopwords**: Words that are irrelevant in some contexts but important in others. For example, \"will\" might usually be a stopword but could be meaningful when analyzing future predictions."
   ]
  },
  {
   "cell_type": "markdown",
   "metadata": {
    "id": "dDpuKiaCJWv2"
   },
   "source": [
    "#### Checking English Stopwords List"
   ]
  },
  {
   "cell_type": "markdown",
   "metadata": {
    "id": "y70Yx3OWKIXI"
   },
   "source": [
    "NLTK in Python has a list of stopwords stored in 16 different languages."
   ]
  },
  {
   "cell_type": "code",
   "execution_count": null,
   "metadata": {
    "colab": {
     "base_uri": "https://localhost:8080/"
    },
    "id": "pt6NC9BpKTxG",
    "outputId": "27752eca-e6e1-445a-fbbf-125b71e41055"
   },
   "outputs": [
    {
     "name": "stdout",
     "output_type": "stream",
     "text": [
      "['a', 'about', 'above', 'after', 'again', 'against', 'ain', 'all', 'am', 'an', 'and', 'any', 'are', 'aren', \"aren't\", 'as', 'at', 'be', 'because', 'been', 'before', 'being', 'below', 'between', 'both', 'but', 'by', 'can', 'couldn', \"couldn't\", 'd', 'did', 'didn', \"didn't\", 'do', 'does', 'doesn', \"doesn't\", 'doing', 'don', \"don't\", 'down', 'during', 'each', 'few', 'for', 'from', 'further', 'had', 'hadn', \"hadn't\", 'has', 'hasn', \"hasn't\", 'have', 'haven', \"haven't\", 'having', 'he', \"he'd\", \"he'll\", 'her', 'here', 'hers', 'herself', \"he's\", 'him', 'himself', 'his', 'how', 'i', \"i'd\", 'if', \"i'll\", \"i'm\", 'in', 'into', 'is', 'isn', \"isn't\", 'it', \"it'd\", \"it'll\", \"it's\", 'its', 'itself', \"i've\", 'just', 'll', 'm', 'ma', 'me', 'mightn', \"mightn't\", 'more', 'most', 'mustn', \"mustn't\", 'my', 'myself', 'needn', \"needn't\", 'no', 'nor', 'not', 'now', 'o', 'of', 'off', 'on', 'once', 'only', 'or', 'other', 'our', 'ours', 'ourselves', 'out', 'over', 'own', 're', 's', 'same', 'shan', \"shan't\", 'she', \"she'd\", \"she'll\", \"she's\", 'should', 'shouldn', \"shouldn't\", \"should've\", 'so', 'some', 'such', 't', 'than', 'that', \"that'll\", 'the', 'their', 'theirs', 'them', 'themselves', 'then', 'there', 'these', 'they', \"they'd\", \"they'll\", \"they're\", \"they've\", 'this', 'those', 'through', 'to', 'too', 'under', 'until', 'up', 've', 'very', 'was', 'wasn', \"wasn't\", 'we', \"we'd\", \"we'll\", \"we're\", 'were', 'weren', \"weren't\", \"we've\", 'what', 'when', 'where', 'which', 'while', 'who', 'whom', 'why', 'will', 'with', 'won', \"won't\", 'wouldn', \"wouldn't\", 'y', 'you', \"you'd\", \"you'll\", 'your', \"you're\", 'yours', 'yourself', 'yourselves', \"you've\"]\n"
     ]
    },
    {
     "name": "stderr",
     "output_type": "stream",
     "text": [
      "[nltk_data] Downloading package stopwords to /root/nltk_data...\n",
      "[nltk_data]   Unzipping corpora/stopwords.zip.\n"
     ]
    }
   ],
   "source": [
    "import nltk\n",
    "from nltk.corpus import stopwords\n",
    "\n",
    "nltk.download('stopwords')\n",
    "print(stopwords.words('english'))"
   ]
  },
  {
   "cell_type": "markdown",
   "metadata": {
    "id": "nyQlhE0vJfTe"
   },
   "source": [
    "#### Removing stop words with NLTK"
   ]
  },
  {
   "cell_type": "code",
   "execution_count": null,
   "metadata": {
    "colab": {
     "base_uri": "https://localhost:8080/"
    },
    "id": "EsnAKj0RLER_",
    "outputId": "0d6ce5cc-3444-4d19-d2bd-8ff10e50fbde"
   },
   "outputs": [
    {
     "name": "stdout",
     "output_type": "stream",
     "text": [
      "['This', 'is', 'a', 'sample', 'sentence', ',', 'showing', 'off', 'the', 'stop', 'words', 'filtration', '.']\n",
      "['sample', 'sentence', ',', 'showing', 'stop', 'words', 'filtration', '.']\n"
     ]
    }
   ],
   "source": [
    "from nltk.corpus import stopwords\n",
    "from nltk.tokenize import word_tokenize\n",
    "\n",
    "example_sent = \"\"\"This is a sample sentence,\n",
    "                  showing off the stop words filtration.\"\"\"\n",
    "\n",
    "stop_words = set(stopwords.words('english'))\n",
    "\n",
    "word_tokens = word_tokenize(example_sent)\n",
    "filtered_sentence = [w for w in word_tokens if not w.lower() in stop_words]\n",
    "\n",
    "print(word_tokens)\n",
    "print(filtered_sentence)"
   ]
  },
  {
   "cell_type": "markdown",
   "metadata": {
    "id": "4Zw94yJMNwJ2"
   },
   "source": [
    "### **Transforming our data**"
   ]
  },
  {
   "cell_type": "markdown",
   "metadata": {
    "id": "S1eKOev_N2YN"
   },
   "source": [
    "Now that we have familiarized ourselves with various preprocessing techniques, we will proceed to apply them in practice. Specifically, we will perform tokenization by words, apply lemmatization to reduce words to their base forms, and remove stopwords to eliminate common or irrelevant terms that do not contribute significantly to the meaning of the text."
   ]
  },
  {
   "cell_type": "code",
   "execution_count": null,
   "metadata": {
    "colab": {
     "base_uri": "https://localhost:8080/"
    },
    "id": "d0M7hO3_N7qm",
    "outputId": "d3b11f61-d353-408f-f2b1-c6d5cc89199e"
   },
   "outputs": [
    {
     "name": "stderr",
     "output_type": "stream",
     "text": [
      "[nltk_data] Downloading package punkt_tab to /root/nltk_data...\n",
      "[nltk_data]   Package punkt_tab is already up-to-date!\n",
      "[nltk_data] Downloading package wordnet to /root/nltk_data...\n",
      "[nltk_data]   Package wordnet is already up-to-date!\n",
      "[nltk_data] Downloading package stopwords to /root/nltk_data...\n",
      "[nltk_data]   Package stopwords is already up-to-date!\n"
     ]
    }
   ],
   "source": [
    "import nltk\n",
    "from nltk.corpus import stopwords\n",
    "from nltk.stem import WordNetLemmatizer\n",
    "from nltk.tokenize import word_tokenize\n",
    "\n",
    "# Download necessary NLTK resources\n",
    "nltk.download('punkt_tab')\n",
    "nltk.download('wordnet')\n",
    "nltk.download('stopwords')\n",
    "\n",
    "lemmatizer = WordNetLemmatizer()\n",
    "stopwords = set(stopwords.words('english'))\n",
    "\n",
    "def text_preprocessor2(text):\n",
    "    # Tokenize the text\n",
    "    tokens = word_tokenize(text)\n",
    "\n",
    "    # Lemmatize and remove stopwords (we have already converted to lower case, but for testing purposes I will use lower function)\n",
    "    processed = [lemmatizer.lemmatize(word) for word in tokens if word.lower() not in stopwords]\n",
    "\n",
    "    return processed"
   ]
  },
  {
   "cell_type": "code",
   "execution_count": null,
   "metadata": {
    "colab": {
     "base_uri": "https://localhost:8080/"
    },
    "id": "6hilc13YO4-V",
    "outputId": "74e531a0-6745-4a6b-83c3-229e787f142b"
   },
   "outputs": [
    {
     "name": "stdout",
     "output_type": "stream",
     "text": [
      "['sample', 'sentence', 'show', 'functioning', 'function']\n"
     ]
    }
   ],
   "source": [
    "# Check on example\n",
    "sample_text = \"This is a sample sentence that shows functioning of our function\"\n",
    "print(text_preprocessor2(sample_text))"
   ]
  },
  {
   "cell_type": "code",
   "execution_count": null,
   "metadata": {
    "id": "9UR3ZWXHOqAM"
   },
   "outputs": [],
   "source": [
    "df['review'] = df['review'].apply(text_preprocessor2)"
   ]
  },
  {
   "cell_type": "markdown",
   "metadata": {
    "id": "OMQTlnjls6ga"
   },
   "source": [
    "### **5. Parts of Speech (POS) Tagging**"
   ]
  },
  {
   "cell_type": "markdown",
   "metadata": {
    "id": "HGj7dTr3Q2X7"
   },
   "source": [
    "#### What is POS Tagging?\n",
    "\n",
    "Parts of Speech (PoS) tagging assigns grammatical categories (e.g., noun, verb, adjective) to words. It enhances understanding of sentence structure and meaning, and is essential for tasks like sentiment analysis, machine translation, and entity recognition.\n",
    "\n",
    "**Usefulness:**\n",
    "- Disambiguates word meaning\n",
    "- Aids in syntactic and semantic analysis\n",
    "- Foundation for many NLP applications\n"
   ]
  },
  {
   "cell_type": "markdown",
   "metadata": {
    "id": "GGEREXLqQ-Yb"
   },
   "source": [
    "#### POS Tagging with NLTK"
   ]
  },
  {
   "cell_type": "code",
   "execution_count": null,
   "metadata": {
    "colab": {
     "base_uri": "https://localhost:8080/"
    },
    "id": "7ngSFE04Q-hL",
    "outputId": "28fe1720-1773-4c6f-eae8-d3d1c040be29"
   },
   "outputs": [
    {
     "name": "stderr",
     "output_type": "stream",
     "text": [
      "[nltk_data] Downloading package averaged_perceptron_tagger_eng to\n",
      "[nltk_data]     /root/nltk_data...\n",
      "[nltk_data]   Unzipping taggers/averaged_perceptron_tagger_eng.zip.\n",
      "[nltk_data] Downloading package punkt_tab to /root/nltk_data...\n",
      "[nltk_data]   Package punkt_tab is already up-to-date!\n"
     ]
    },
    {
     "name": "stdout",
     "output_type": "stream",
     "text": [
      "Original Text:\n",
      "Sample text to show how POS tagging works\n",
      "\n",
      "PoS Tagging Result:\n",
      "Sample: NNP\n",
      "text: NN\n",
      "to: TO\n",
      "show: VB\n",
      "how: WRB\n",
      "POS: NNP\n",
      "tagging: NN\n",
      "works: NNS\n"
     ]
    }
   ],
   "source": [
    "import nltk\n",
    "from nltk.tokenize import word_tokenize\n",
    "from nltk.tag import pos_tag\n",
    "\n",
    "nltk.download('averaged_perceptron_tagger_eng')\n",
    "nltk.download('punkt_tab')\n",
    "\n",
    "text = \"Sample text to show how POS tagging works\"\n",
    "pos_tags = pos_tag(word_tokenize(text))\n",
    "\n",
    "print(\"Original Text:\")\n",
    "print(text)\n",
    "\n",
    "print(\"\\nPoS Tagging Result:\")\n",
    "for word, pos_tag in pos_tags:\n",
    "    print(f\"{word}: {pos_tag}\")"
   ]
  },
  {
   "cell_type": "markdown",
   "metadata": {
    "id": "VHDmFMvDQ-qq"
   },
   "source": [
    "#### POS Tagging with spaCy"
   ]
  },
  {
   "cell_type": "code",
   "execution_count": null,
   "metadata": {
    "colab": {
     "base_uri": "https://localhost:8080/"
    },
    "id": "q2gfM62CQ-5j",
    "outputId": "5d1a8cc9-8f43-48b3-ea45-4770f8685ac1"
   },
   "outputs": [
    {
     "name": "stdout",
     "output_type": "stream",
     "text": [
      "Sample: NOUN\n",
      "text: NOUN\n",
      "to: PART\n",
      "show: VERB\n",
      "how: SCONJ\n",
      "POS: PROPN\n",
      "tagging: NOUN\n",
      "works: VERB\n"
     ]
    }
   ],
   "source": [
    "import spacy\n",
    "\n",
    "nlp = spacy.load(\"en_core_web_sm\")\n",
    "text = \"Sample text to show how POS tagging works\"\n",
    "doc = nlp(text)\n",
    "\n",
    "for token in doc:\n",
    "    print(f\"{token.text}: {token.pos_}\")"
   ]
  },
  {
   "cell_type": "markdown",
   "metadata": {
    "id": "-golNwp9S3Eq"
   },
   "source": [
    "#### Types of POS Tagging"
   ]
  },
  {
   "cell_type": "markdown",
   "metadata": {
    "id": "Za1YxrKJQ_Ei"
   },
   "source": [
    "**1. Rule-Based:** Uses predefined rules (e.g., words ending in “-tion” = noun). Simple but less flexible.\n",
    "\n",
    "**2. Transformation-Based (TBT):** Applies rules to fix tagging errors iteratively using context (e.g., change verb to noun after “the”).\n",
    "\n",
    "**3. Statistical Tagging:** Uses models like Hidden Markov Models (HMMs) or CRFs, trained on tagged corpora, to predict tags based on context.\n"
   ]
  },
  {
   "cell_type": "markdown",
   "metadata": {
    "id": "RylZwooHRJQ6"
   },
   "source": [
    "#### Pros and cons\n",
    "\n",
    "**Advantages:**\n",
    "- Simplifies sentence parsing\n",
    "- Improves entity recognition and search\n",
    "- Enhances syntactic analysis\n",
    "\n",
    "**Disadvantages:**\n",
    "- Ambiguity in context\n",
    "- Poor performance with idioms or slang\n",
    "- Requires domain-specific training data\n"
   ]
  },
  {
   "cell_type": "markdown",
   "metadata": {
    "id": "IyHDGWpQCEzf"
   },
   "source": [
    "### **6. Other examples**"
   ]
  },
  {
   "cell_type": "markdown",
   "metadata": {
    "id": "Ccz3GSEGCNnh"
   },
   "source": [
    "#### **Remove urls**"
   ]
  },
  {
   "cell_type": "code",
   "execution_count": null,
   "metadata": {
    "id": "7Pq3hW7oTX_a"
   },
   "outputs": [],
   "source": [
    "import re\n",
    "\n",
    "def remove_url(text):\n",
    "    url_pattern = re.compile(r'https?://\\S+|www\\.\\S+')\n",
    "    found_urls = url_pattern.findall(text)\n",
    "    cleaned_text = url_pattern.sub('', text)\n",
    "    return cleaned_text, found_urls"
   ]
  },
  {
   "cell_type": "code",
   "execution_count": null,
   "metadata": {
    "colab": {
     "base_uri": "https://localhost:8080/"
    },
    "id": "Yu3gHCR5TezK",
    "outputId": "9adfadf5-fc9a-4983-e5d9-ef9ee1290b5e"
   },
   "outputs": [
    {
     "name": "stdout",
     "output_type": "stream",
     "text": [
      "Cleaned Text: Visit  or  for more info.\n",
      "Found URLs: ['https://example.com', 'www.test.com']\n"
     ]
    }
   ],
   "source": [
    "text = \"Visit https://example.com or www.test.com for more info.\"\n",
    "cleaned, urls = remove_url(text)\n",
    "\n",
    "print(\"Cleaned Text:\", cleaned)\n",
    "print(\"Found URLs:\", urls)"
   ]
  },
  {
   "cell_type": "markdown",
   "metadata": {
    "id": "Nro4pm7gCNvO"
   },
   "source": [
    "#### **Abbreviations handling**"
   ]
  },
  {
   "cell_type": "code",
   "execution_count": null,
   "metadata": {
    "id": "BHVjlgAQUHTM"
   },
   "outputs": [],
   "source": [
    "def handle_abbreviations(text, abbr_dict=None):\n",
    "    if abbr_dict is None:\n",
    "        abbr_dict = {\n",
    "            \"u\": \"you\",\n",
    "            \"r\": \"are\",\n",
    "            \"lol\": \"laughing out loud\",\n",
    "            \"idk\": \"I don't know\",\n",
    "            \"btw\": \"by the way\",\n",
    "            \"brb\": \"be right back\",\n",
    "            \"omg\": \"oh my god\",\n",
    "            \"ttyl\": \"talk to you later\",\n",
    "            \"imo\": \"in my opinion\",\n",
    "            \"lmk\": \"let me know\"\n",
    "        }\n",
    "\n",
    "    pattern = re.compile(r'\\b(' + '|'.join(re.escape(k) for k in abbr_dict.keys()) + r')\\b', flags=re.IGNORECASE)\n",
    "\n",
    "    def replace(match):\n",
    "        word = match.group(0)\n",
    "        return abbr_dict.get(word.lower(), word)\n",
    "\n",
    "    expanded_text = pattern.sub(replace, text)\n",
    "    return expanded_text"
   ]
  },
  {
   "cell_type": "code",
   "execution_count": null,
   "metadata": {
    "colab": {
     "base_uri": "https://localhost:8080/"
    },
    "id": "lndHTWALUSgI",
    "outputId": "7b4a481b-7047-4034-ad7b-f3021193f9a7"
   },
   "outputs": [
    {
     "name": "stdout",
     "output_type": "stream",
     "text": [
      "I don't know what you are doing laughing out loud\n"
     ]
    }
   ],
   "source": [
    "text = \"idk what u r doing lol\"\n",
    "expanded = handle_abbreviations(text)\n",
    "print(expanded)"
   ]
  },
  {
   "cell_type": "markdown",
   "metadata": {
    "id": "bBnq_sccCN0l"
   },
   "source": [
    "#### **Emojis handling**"
   ]
  },
  {
   "cell_type": "code",
   "execution_count": null,
   "metadata": {
    "colab": {
     "base_uri": "https://localhost:8080/"
    },
    "id": "kcC_v7sGsegn",
    "outputId": "6b71b9a2-6bfc-4bbc-c351-87db62ebf608"
   },
   "outputs": [
    {
     "name": "stdout",
     "output_type": "stream",
     "text": [
      "Collecting emoji\n",
      "  Downloading emoji-2.14.1-py3-none-any.whl.metadata (5.7 kB)\n",
      "Downloading emoji-2.14.1-py3-none-any.whl (590 kB)\n",
      "\u001b[?25l   \u001b[90m━━━━━━━━━━━━━━━━━━━━━━━━━━━━━━━━━━━━━━━━\u001b[0m \u001b[32m0.0/590.6 kB\u001b[0m \u001b[31m?\u001b[0m eta \u001b[36m-:--:--\u001b[0m\r",
      "\u001b[2K   \u001b[90m━━━━━━━━━━━━━━━━━━━━━━━━━━━━━━━━━━━━━━━━\u001b[0m \u001b[32m590.6/590.6 kB\u001b[0m \u001b[31m27.0 MB/s\u001b[0m eta \u001b[36m0:00:00\u001b[0m\n",
      "\u001b[?25hInstalling collected packages: emoji\n",
      "Successfully installed emoji-2.14.1\n",
      "Bye :face_blowing_a_kiss:\n"
     ]
    }
   ],
   "source": [
    "!pip install emoji\n",
    "import emoji\n",
    "print(emoji.demojize('Bye 😘'))"
   ]
  },
  {
   "cell_type": "markdown",
   "metadata": {
    "id": "yDhZVihVcLvK"
   },
   "source": [
    "## **2. Text Representation and Text Embedding Techniques**"
   ]
  },
  {
   "cell_type": "markdown",
   "metadata": {
    "id": "0fXpSNO1J0ek"
   },
   "source": [
    "\n",
    "In Natural Language Processing (NLP), textual data needs to be transformed into numerical format before it can be fed into machine learning models. This transformation is done through **text representation** techniques.\n",
    "\n",
    "\n"
   ]
  },
  {
   "cell_type": "markdown",
   "metadata": {
    "id": "NQttMP7hK_0s"
   },
   "source": [
    "### 1. Text Representation Techniques\n",
    "\n",
    "These are basic methods to convert words or documents into fixed-size vectors:\n",
    "\n",
    "#### 🔹 One-Hot Encoding\n",
    "\n",
    "#### 🔹 Bag of Words (BoW)\n",
    "\n",
    "#### 🔹 N-Grams\n",
    "\n",
    "#### 🔹 TF-IDF (Term Frequency-Inverse Document Frequency)\n",
    "\n",
    "#### 🔹 N-Gram Language Modeling (using NLTK or similar)\n",
    "\n",
    "\n",
    "\n"
   ]
  },
  {
   "cell_type": "markdown",
   "metadata": {
    "id": "hVy0odxSLFu6"
   },
   "source": [
    "### 2. Word Embedding Techniques\n",
    "\n",
    "These generate **dense vector representations** that capture semantic meaning:\n",
    "\n",
    "#### 🔹 Word2Vec\n",
    "\n",
    "\n",
    "#### 🔹 GloVe (Global Vectors for Word Representation)\n",
    "\n",
    "\n",
    "#### 🔹 fastText\n",
    "\n",
    "\n"
   ]
  },
  {
   "cell_type": "markdown",
   "metadata": {
    "id": "PbLtIAldLVL7"
   },
   "source": [
    "\n",
    "\n",
    "###  Relationship Between Text Representation and Text Embedding Techniques\n",
    "\n",
    "### Common Goal\n",
    "Both **Text Representation** and **Text Embedding Techniques** aim to **convert textual data into numerical vectors** that machine learning models can understand.\n",
    "\n",
    "\n",
    "\n",
    "#### Key Differences\n",
    "\n",
    "| Aspect                      | Text Representation                     | Text Embedding Techniques                |\n",
    "|----------------------------|------------------------------------------|------------------------------------------|\n",
    "| **Definition**             | Basic ways of representing text numerically | Advanced, often dense vector representations |\n",
    "| **Examples**               | One-Hot, BoW, N-Gram, TF-IDF             | Word2Vec, GloVe, fastText, BERT          |\n",
    "| **Vector Type**            | Sparse (high-dimensional, many zeros)    | Dense (lower-dimensional, meaningful)    |\n",
    "| **Context Awareness**      | Limited or none                          | Captures semantic/contextual meaning     |\n",
    "| **Training Required**      | Often not (especially for BoW/TF-IDF)    | Yes, or use pre-trained models           |\n",
    "\n",
    "\n",
    "\n",
    " **Text Embedding Techniques are a more advanced and powerful subset of Text Representation methods** that produce dense, semantic, and often contextual vectors for NLP tasks.\n"
   ]
  },
  {
   "cell_type": "markdown",
   "metadata": {
    "id": "L_RiZHpUMkDR"
   },
   "source": [
    "\n",
    "\n",
    "### Diving Deeper into Key Techniques\n",
    "\n",
    "Now that we understand the relationship between **text representation** and **embedding techniques**, we will familiarize ourselves more closely with some of the most important ones.\n"
   ]
  },
  {
   "cell_type": "markdown",
   "metadata": {
    "id": "xUN2vEhWMtvZ"
   },
   "source": [
    "### **One-Hot Encoding**"
   ]
  },
  {
   "cell_type": "markdown",
   "metadata": {
    "id": "-DqtkRcAbZwS"
   },
   "source": [
    "**One-Hot Encoding (OHE)** is one of the most fundamental and simple text representation techniques. It transforms text into a binary vector representation, where each word or token in the corpus is mapped to a unique index, and that word’s corresponding index is marked as “1,” while all other indices are marked as “0.”\n",
    "\n",
    "##### How One-Hot Encoding Works:\n",
    "\n",
    "1. **Create a Vocabulary**: The first step is to create a vocabulary that includes every unique word in your dataset.\n",
    "   \n",
    "2. **Create a Vector for Each Word**: Once the vocabulary is created, each word is represented as a binary vector. The vector length equals the size of the vocabulary, and each vector element corresponds to a word in the vocabulary.\n",
    "   \n",
    "3. **Mark Presence of the Word**: If a word from the text appears in the vocabulary, the corresponding index in the vector is set to 1. All other positions in the vector are set to 0.\n",
    "\n",
    "##### Pros of One-Hot Encoding:\n",
    "- **Simplicity**: It’s easy to implement and understand.\n",
    "- **Sparsity**: The encoded vectors are sparse, meaning most values are zero, which is a characteristic that can be computationally efficient in some cases.\n",
    "- **No Information Loss**: Every unique word is assigned a distinct position in the vector, preserving the information about which words are in the sentence.\n",
    "\n",
    "##### Cons of One-Hot Encoding:\n",
    "- **High Dimensionality**: For large corpora, the vocabulary can grow huge, leading to very high-dimensional vectors that are sparse and inefficient.\n",
    "- **No Semantic Meaning**: One-hot encoding doesn’t capture any relationships between words. For example, “love” and “like” would be represented as entirely separate vectors, even though they have similar meanings.\n",
    "- **Lack of Context**: One-hot encoding treats each word in isolation, ignoring the context in which the word is used.\n",
    "\n",
    "##### Use Cases:\n",
    "- **Text Classification**: Simple text classification tasks can often benefit from one-hot encoding, especially if the vocabulary is not too large.\n",
    "- **Neural Networks**: It’s commonly used as an input layer for deep learning models where the model learns to map each word to a vector in a higher-dimensional space.\n"
   ]
  },
  {
   "cell_type": "markdown",
   "metadata": {
    "id": "cE8z54iHgi_x"
   },
   "source": [
    "##### Implementation"
   ]
  },
  {
   "cell_type": "code",
   "execution_count": null,
   "metadata": {
    "colab": {
     "base_uri": "https://localhost:8080/"
    },
    "id": "y4xYajo3ciZP",
    "outputId": "3efabe2f-f097-411d-fbf9-cc492d2d54ba"
   },
   "outputs": [
    {
     "name": "stdout",
     "output_type": "stream",
     "text": [
      "Full One-Hot Encoded Sentence:\n",
      "wonderful: [0. 0. 0. 0. 0. 0. 0. 0. 0. 0. 0. 0. 0. 0. 0. 0. 0. 0. 0. 0. 0. 0. 0. 0.\n",
      " 0. 0. 0. 0. 0. 1.]\n",
      "little: [0. 0. 0. 0. 0. 0. 0. 0. 0. 0. 0. 1. 0. 0. 0. 0. 0. 0. 0. 0. 0. 0. 0. 0.\n",
      " 0. 0. 0. 0. 0. 0.]\n",
      "production: [0. 0. 0. 0. 0. 0. 0. 0. 0. 0. 0. 0. 0. 0. 0. 0. 0. 1. 0. 0. 0. 0. 0. 0.\n",
      " 0. 0. 0. 0. 0. 0.]\n",
      "filming: [0. 0. 0. 0. 0. 0. 0. 0. 1. 0. 0. 0. 0. 0. 0. 0. 0. 0. 0. 0. 0. 0. 0. 0.\n",
      " 0. 0. 0. 0. 0. 0.]\n",
      "technique: [0. 0. 0. 0. 0. 0. 0. 0. 0. 0. 0. 0. 0. 0. 0. 0. 0. 0. 0. 0. 0. 0. 0. 1.\n",
      " 0. 0. 0. 0. 0. 0.]\n",
      "unassuming: [0. 0. 0. 0. 0. 0. 0. 0. 0. 0. 0. 0. 0. 0. 0. 0. 0. 0. 0. 0. 0. 0. 0. 0.\n",
      " 0. 0. 1. 0. 0. 0.]\n",
      "old: [0. 0. 0. 0. 0. 0. 0. 0. 0. 0. 0. 0. 0. 1. 0. 0. 0. 0. 0. 0. 0. 0. 0. 0.\n",
      " 0. 0. 0. 0. 0. 0.]\n",
      "time: [0. 0. 0. 0. 0. 0. 0. 0. 0. 0. 0. 0. 0. 0. 0. 0. 0. 0. 0. 0. 0. 0. 0. 0.\n",
      " 1. 0. 0. 0. 0. 0.]\n",
      "bbc: [0. 1. 0. 0. 0. 0. 0. 0. 0. 0. 0. 0. 0. 0. 0. 0. 0. 0. 0. 0. 0. 0. 0. 0.\n",
      " 0. 0. 0. 0. 0. 0.]\n",
      "fashion: [0. 0. 0. 0. 0. 0. 0. 1. 0. 0. 0. 0. 0. 0. 0. 0. 0. 0. 0. 0. 0. 0. 0. 0.\n",
      " 0. 0. 0. 0. 0. 0.]\n",
      "give: [0. 0. 0. 0. 0. 0. 0. 0. 0. 1. 0. 0. 0. 0. 0. 0. 0. 0. 0. 0. 0. 0. 0. 0.\n",
      " 0. 0. 0. 0. 0. 0.]\n",
      "comforting: [0. 0. 0. 1. 0. 0. 0. 0. 0. 0. 0. 0. 0. 0. 0. 0. 0. 0. 0. 0. 0. 0. 0. 0.\n",
      " 0. 0. 0. 0. 0. 0.]\n",
      "sometimes: [0. 0. 0. 0. 0. 0. 0. 0. 0. 0. 0. 0. 0. 0. 0. 0. 0. 0. 0. 0. 0. 0. 1. 0.\n",
      " 0. 0. 0. 0. 0. 0.]\n",
      "discomforting: [0. 0. 0. 0. 1. 0. 0. 0. 0. 0. 0. 0. 0. 0. 0. 0. 0. 0. 0. 0. 0. 0. 0. 0.\n",
      " 0. 0. 0. 0. 0. 0.]\n",
      "sense: [0. 0. 0. 0. 0. 0. 0. 0. 0. 0. 0. 0. 0. 0. 0. 0. 0. 0. 0. 0. 1. 0. 0. 0.\n",
      " 0. 0. 0. 0. 0. 0.]\n",
      "realism: [0. 0. 0. 0. 0. 0. 0. 0. 0. 0. 0. 0. 0. 0. 0. 0. 0. 0. 1. 0. 0. 0. 0. 0.\n",
      " 0. 0. 0. 0. 0. 0.]\n",
      "entire: [0. 0. 0. 0. 0. 1. 0. 0. 0. 0. 0. 0. 0. 0. 0. 0. 0. 0. 0. 0. 0. 0. 0. 0.\n",
      " 0. 0. 0. 0. 0. 0.]\n",
      "piece: [0. 0. 0. 0. 0. 0. 0. 0. 0. 0. 0. 0. 0. 0. 0. 1. 0. 0. 0. 0. 0. 0. 0. 0.\n",
      " 0. 0. 0. 0. 0. 0.]\n",
      "actor: [1. 0. 0. 0. 0. 0. 0. 0. 0. 0. 0. 0. 0. 0. 0. 0. 0. 0. 0. 0. 0. 0. 0. 0.\n",
      " 0. 0. 0. 0. 0. 0.]\n",
      "extremely: [0. 0. 0. 0. 0. 0. 1. 0. 0. 0. 0. 0. 0. 0. 0. 0. 0. 0. 0. 0. 0. 0. 0. 0.\n",
      " 0. 0. 0. 0. 0. 0.]\n",
      "well: [0. 0. 0. 0. 0. 0. 0. 0. 0. 0. 0. 0. 0. 0. 0. 0. 0. 0. 0. 0. 0. 0. 0. 0.\n",
      " 0. 0. 0. 0. 1. 0.]\n",
      "chosen: [0. 0. 1. 0. 0. 0. 0. 0. 0. 0. 0. 0. 0. 0. 0. 0. 0. 0. 0. 0. 0. 0. 0. 0.\n",
      " 0. 0. 0. 0. 0. 0.]\n",
      "michael: [0. 0. 0. 0. 0. 0. 0. 0. 0. 0. 0. 0. 1. 0. 0. 0. 0. 0. 0. 0. 0. 0. 0. 0.\n",
      " 0. 0. 0. 0. 0. 0.]\n",
      "sheen: [0. 0. 0. 0. 0. 0. 0. 0. 0. 0. 0. 0. 0. 0. 0. 0. 0. 0. 0. 0. 0. 1. 0. 0.\n",
      " 0. 0. 0. 0. 0. 0.]\n",
      "got: [0. 0. 0. 0. 0. 0. 0. 0. 0. 0. 1. 0. 0. 0. 0. 0. 0. 0. 0. 0. 0. 0. 0. 0.\n",
      " 0. 0. 0. 0. 0. 0.]\n",
      "polari: [0. 0. 0. 0. 0. 0. 0. 0. 0. 0. 0. 0. 0. 0. 0. 0. 1. 0. 0. 0. 0. 0. 0. 0.\n",
      " 0. 0. 0. 0. 0. 0.]\n",
      "voice: [0. 0. 0. 0. 0. 0. 0. 0. 0. 0. 0. 0. 0. 0. 0. 0. 0. 0. 0. 0. 0. 0. 0. 0.\n",
      " 0. 0. 0. 1. 0. 0.]\n",
      "pat: [0. 0. 0. 0. 0. 0. 0. 0. 0. 0. 0. 0. 0. 0. 1. 0. 0. 0. 0. 0. 0. 0. 0. 0.\n",
      " 0. 0. 0. 0. 0. 0.]\n",
      "truly: [0. 0. 0. 0. 0. 0. 0. 0. 0. 0. 0. 0. 0. 0. 0. 0. 0. 0. 0. 0. 0. 0. 0. 0.\n",
      " 0. 1. 0. 0. 0. 0.]\n",
      "see: [0. 0. 0. 0. 0. 0. 0. 0. 0. 0. 0. 0. 0. 0. 0. 0. 0. 0. 0. 1. 0. 0. 0. 0.\n",
      " 0. 0. 0. 0. 0. 0.]\n"
     ]
    },
    {
     "name": "stderr",
     "output_type": "stream",
     "text": [
      "<ipython-input-40-f4322593bf89>:5: FutureWarning: Series.__getitem__ treating keys as positions is deprecated. In a future version, integer keys will always be treated as labels (consistent with DataFrame behavior). To access a value by position, use `ser.iloc[pos]`\n",
      "  words = df.iloc[1][0][:30]\n"
     ]
    }
   ],
   "source": [
    "import numpy as np\n",
    "from sklearn.preprocessing import OneHotEncoder\n",
    "\n",
    "# Already preprocessed and splitted text\n",
    "words = df.iloc[1][0][:30]\n",
    "\n",
    "# Create vocabulary from unique words\n",
    "vocabulary = list(set(words))\n",
    "\n",
    "# Initialize encoder (set sparse=False to get dense output)\n",
    "encoder = OneHotEncoder(sparse_output=False)\n",
    "\n",
    "# Reshape and fit the encoder on vocabulary\n",
    "encoder.fit(np.array(vocabulary).reshape(-1, 1))\n",
    "\n",
    "# Encode the sentence words in original order\n",
    "encoded_sentence = encoder.transform(np.array(words).reshape(-1, 1))\n",
    "\n",
    "# Print the result\n",
    "print(\"Full One-Hot Encoded Sentence:\")\n",
    "for word, vec in zip(words, encoded_sentence):\n",
    "    print(f\"{word}: {vec}\")"
   ]
  },
  {
   "cell_type": "markdown",
   "metadata": {
    "id": "jjDQvTuaMt1S"
   },
   "source": [
    "### **Bag of Words (BOW)**"
   ]
  },
  {
   "cell_type": "markdown",
   "metadata": {
    "id": "sFCZIcGRgoqq"
   },
   "source": [
    "**Bag of Words (BoW)** is a simple and widely used text representation technique. A Bag of Words is based on the occurrence of words in a document. The process starts with finding the vocabulary in the text and measuring their occurrence. It is called a bag because the order and structure of words are not considered, just their occurrence.\n",
    "\n",
    "##### How it works:\n",
    "1. Build a **vocabulary** of all unique words across your text data.\n",
    "2. For each sentence/document, count how many times each word from the vocabulary appears.\n",
    "3. Represent the sentence as a **vector of counts**.\n",
    "\n",
    "This method captures **word frequency**, which can be very useful for many classical machine learning algorithms.\n",
    "\n",
    "##### Pros:\n",
    "- Simple and easy to implement and interpret\n",
    "- Works well for many text classification problems\n",
    "\n",
    "##### Cons:\n",
    "- Loses meaning and context\n",
    "- Can lead to high-dimensional vectors (sparse)\n",
    "\n"
   ]
  },
  {
   "cell_type": "markdown",
   "metadata": {
    "id": "t_4u-teykajw"
   },
   "source": [
    "##### Implementation"
   ]
  },
  {
   "cell_type": "code",
   "execution_count": null,
   "metadata": {
    "colab": {
     "base_uri": "https://localhost:8080/"
    },
    "id": "0606cRW5lDZv",
    "outputId": "7d86fe54-6471-4591-cba2-cb9cd59606fd"
   },
   "outputs": [
    {
     "name": "stdout",
     "output_type": "stream",
     "text": [
      "Vocabulary: ['but' 'ever' 'fantastic' 'great' 'hated' 'it' 'love' 'movie' 'not' 'okay'\n",
      " 'terrible' 'the' 'very' 'was' 'worst']\n",
      "Document-Term Matrix:\n",
      " [[0 0 2 0 0 1 1 1 0 0 0 1 1 1 0]\n",
      " [1 0 0 1 0 0 0 1 1 1 0 1 0 1 0]\n",
      " [0 1 0 0 1 1 0 2 0 0 1 2 0 1 1]]\n"
     ]
    }
   ],
   "source": [
    "from sklearn.feature_extraction.text import CountVectorizer\n",
    "\n",
    "# Sample corpus of preprocessed movie reviews\n",
    "corpus = [\n",
    "    \"i love the movie it was fantastic very fantastic\",\n",
    "    \"the movie was okay but not great\",\n",
    "    \"i hated the movie it was terrible the worst movie ever\",\n",
    "]\n",
    "\n",
    "# Initialize the CountVectorizer\n",
    "vectorizer = CountVectorizer()\n",
    "\n",
    "# Fit and transform the corpus\n",
    "X = vectorizer.fit_transform(corpus)\n",
    "\n",
    "# Get the feature names (words in the vocabulary)\n",
    "vocab = vectorizer.get_feature_names_out()\n",
    "\n",
    "# Dense representation for visualization\n",
    "X_dense = X.toarray()\n",
    "\n",
    "print(\"Vocabulary:\", vocab)\n",
    "print(\"Document-Term Matrix:\\n\", X_dense)"
   ]
  },
  {
   "cell_type": "markdown",
   "metadata": {
    "id": "_b7LAamJMt6F"
   },
   "source": [
    "### N-Grams"
   ]
  },
  {
   "cell_type": "markdown",
   "metadata": {
    "id": "s6jnOunx7iOy"
   },
   "source": [
    "**N-Grams** are contiguous sequences of *n* items (typically words or characters) extracted from a text. This technique is foundational in many NLP applications as it helps capture local context and word order, which are ignored in simpler models like Bag of Words or One-Hot Encoding.\n",
    "\n",
    "##### Why Use N-Grams?\n",
    "While unigram models (n=1) treat words independently, **bigrams (n=2)**, **trigrams (n=3)**, and higher-order n-grams capture sequential relationships:\n",
    "- `\"new york\"` conveys more meaning together than `\"new\"` and `\"york\"` separately.\n",
    "- Helps in tasks like language modeling, sentiment analysis, text classification, and machine translation.\n",
    "\n",
    "##### Types of N-Grams:\n",
    "- **Unigram** – Single word: `\"I\"`, `\"love\"`, `\"NLP\"`\n",
    "- **Bigram** – Pair of words: `\"I love\"`, `\"love NLP\"`\n",
    "- **Trigram** – Triplet of words: `\"I love NLP\"`\n",
    "\n",
    "##### Trade-off:\n",
    "- **Higher n** captures more context but increases **sparsity** (i.e., more features, many of which may not appear frequently).\n",
    "- **Lower n** generalizes better but may miss meaningful phrases.\n",
    "\n",
    "##### Common Use-Cases:\n",
    "- **Autocomplete and Text Prediction** – Predict the next word based on previous n-1 words.\n",
    "- **Spelling Correction** – Use character-level n-grams.\n",
    "- **Feature Extraction** – In combination with BOW or TF-IDF to enrich models with context-aware features.\n",
    "\n"
   ]
  },
  {
   "cell_type": "markdown",
   "metadata": {
    "id": "W0xhNGts8DyY"
   },
   "source": [
    "##### Implementation"
   ]
  },
  {
   "cell_type": "code",
   "execution_count": null,
   "metadata": {
    "colab": {
     "base_uri": "https://localhost:8080/"
    },
    "id": "f3nYzZyy8DUG",
    "outputId": "d05b2abc-6c61-4ad8-c4e7-8d17086a1d7a"
   },
   "outputs": [
    {
     "name": "stdout",
     "output_type": "stream",
     "text": [
      "Bigrams: [('N-grams', 'enhance'), ('enhance', 'language'), ('language', 'processing'), ('processing', 'tasks'), ('tasks', '.')]\n",
      "Trigrams: [('N-grams', 'enhance', 'language'), ('enhance', 'language', 'processing'), ('language', 'processing', 'tasks'), ('processing', 'tasks', '.')]\n"
     ]
    },
    {
     "name": "stderr",
     "output_type": "stream",
     "text": [
      "[nltk_data] Downloading package punkt_tab to /root/nltk_data...\n",
      "[nltk_data]   Package punkt_tab is already up-to-date!\n"
     ]
    }
   ],
   "source": [
    "import nltk\n",
    "nltk.download('punkt_tab')\n",
    "\n",
    "from nltk import ngrams\n",
    "from nltk.tokenize import word_tokenize\n",
    "\n",
    "# Example sentence\n",
    "sentence = \"N-grams enhance language processing tasks.\"\n",
    "\n",
    "# Tokenize the sentence\n",
    "tokens = word_tokenize(sentence)\n",
    "\n",
    "# Generate bigrams\n",
    "bigrams = list(ngrams(tokens, 2))\n",
    "\n",
    "# Generate trigrams\n",
    "trigrams = list(ngrams(tokens, 3))\n",
    "\n",
    "# Print the results\n",
    "print(\"Bigrams:\", bigrams)\n",
    "print(\"Trigrams:\", trigrams)\n"
   ]
  },
  {
   "cell_type": "markdown",
   "metadata": {
    "id": "4aLi7eVeMt_r"
   },
   "source": [
    "### Term Frequency-Inverse Document Frequency (TF-IDF)"
   ]
  },
  {
   "cell_type": "markdown",
   "metadata": {
    "id": "VQj6NQDP9YDS"
   },
   "source": [
    "\n",
    "\n",
    "**TF-IDF** is a powerful statistical measure used to evaluate how important a word is to a document in a collection (corpus). Unlike raw frequency counts (as in Bag of Words), TF-IDF considers both the frequency of a word in a specific document **and** how rare it is across all documents — making it a more insightful way to represent text.\n",
    "\n",
    "##### 🔹 1. Term Frequency (TF)\n",
    "This measures how often a term appears in a document.  \n",
    "Formula:\n",
    "\n",
    "$TF(t, d) = \\frac{\\text{Number of times term } t \\text{ appears in document } d}{\\text{Total number of terms in } d}$\n",
    "\n",
    "\n",
    "##### 🔹 2. Inverse Document Frequency (IDF)\n",
    "This evaluates how unique or rare a term is across all documents in the corpus.  \n",
    "Formula:\n",
    "\n",
    "$IDF(t) = \\log \\left( \\frac{N}{df(t)} \\right)$\n",
    "\n",
    "Where:\n",
    "- $N$: total number of documents\n",
    "- $df(t)$: number of documents containing the term $t$\n",
    "\n",
    "##### 🔹 3. TF-IDF Score\n",
    "The final TF-IDF score is the product of TF and IDF:\n",
    "\n",
    "$\\text{TF-IDF}(t, d) = TF(t, d) \\times IDF(t)$\n",
    "\n",
    "\n",
    "A higher TF-IDF score means the term is more important in that specific document.\n",
    "\n",
    "##### Why Use TF-IDF?\n",
    "\n",
    "- Reduces the weight of common words (e.g., “the”, “and”) that occur frequently across documents but carry little meaning.\n",
    "- Highlights more **discriminative** words that are unique to specific documents.\n",
    "- Frequently used in information retrieval, search engines, and document classification.\n"
   ]
  },
  {
   "cell_type": "markdown",
   "metadata": {
    "id": "KAtDSOHe_3Fs"
   },
   "source": [
    "##### Implementation"
   ]
  },
  {
   "cell_type": "code",
   "execution_count": null,
   "metadata": {
    "colab": {
     "base_uri": "https://localhost:8080/"
    },
    "id": "Y8q1akaNASMt",
    "outputId": "47222171-8a6e-4ce5-e43c-6b9bf12db4ca"
   },
   "outputs": [
    {
     "name": "stdout",
     "output_type": "stream",
     "text": [
      "\n",
      "idf values:\n",
      "black : 1.6931471805599454\n",
      "but : 1.6931471805599454\n",
      "cat : 1.2876820724517808\n",
      "dog : 1.6931471805599454\n",
      "hates : 1.6931471805599454\n",
      "hello : 1.6931471805599454\n",
      "is : 1.6931471805599454\n",
      "my : 1.6931471805599454\n",
      "there : 1.6931471805599454\n",
      "this : 1.2876820724517808\n",
      "white : 1.6931471805599454\n",
      "\n",
      "Word indexes:\n",
      "{'this': 9, 'cat': 2, 'is': 6, 'black': 0, 'but': 1, 'my': 7, 'white': 10, 'dog': 3, 'hates': 4, 'hello': 5, 'there': 8}\n",
      "\n",
      "tf-idf value:\n",
      "<Compressed Sparse Row sparse matrix of dtype 'float64'\n",
      "\twith 13 stored elements and shape (3, 11)>\n",
      "  Coords\tValues\n",
      "  (0, 9)\t0.23044122518118304\n",
      "  (0, 2)\t0.4608824503623661\n",
      "  (0, 6)\t0.6060050365652817\n",
      "  (0, 0)\t0.30300251828264085\n",
      "  (0, 1)\t0.30300251828264085\n",
      "  (0, 7)\t0.30300251828264085\n",
      "  (0, 10)\t0.30300251828264085\n",
      "  (1, 9)\t0.6877028592349709\n",
      "  (1, 2)\t0.34385142961748544\n",
      "  (1, 3)\t0.4521233082633858\n",
      "  (1, 4)\t0.4521233082633858\n",
      "  (2, 5)\t0.7071067811865476\n",
      "  (2, 8)\t0.7071067811865476\n",
      "\n",
      "tf-idf values in matrix form:\n",
      "[[0.30300252 0.30300252 0.46088245 0.         0.         0.\n",
      "  0.60600504 0.30300252 0.         0.23044123 0.30300252]\n",
      " [0.         0.         0.34385143 0.45212331 0.45212331 0.\n",
      "  0.         0.         0.         0.68770286 0.        ]\n",
      " [0.         0.         0.         0.         0.         0.70710678\n",
      "  0.         0.         0.70710678 0.         0.        ]]\n"
     ]
    }
   ],
   "source": [
    "# import required module\n",
    "from sklearn.feature_extraction.text import TfidfVectorizer\n",
    "\n",
    "# assign documents\n",
    "d0 = 'This cat is black, but my cat is white'\n",
    "d1 = 'This dog hates this cat'\n",
    "d2 = 'Hello there'\n",
    "\n",
    "# merge documents into a single corpus\n",
    "string = [d0, d1, d2]\n",
    "\n",
    "# create object\n",
    "tfidf = TfidfVectorizer()\n",
    "\n",
    "# get tf-df values\n",
    "result = tfidf.fit_transform(string)\n",
    "\n",
    "# get idf values\n",
    "print('\\nidf values:')\n",
    "for ele1, ele2 in zip(tfidf.get_feature_names_out(), tfidf.idf_):\n",
    "    print(ele1, ':', ele2)\n",
    "\n",
    "# get indexing\n",
    "print('\\nWord indexes:')\n",
    "print(tfidf.vocabulary_)\n",
    "\n",
    "# display tf-idf values\n",
    "print('\\ntf-idf value:')\n",
    "print(result)\n",
    "\n",
    "# in matrix form\n",
    "print('\\ntf-idf values in matrix form:')\n",
    "print(result.toarray())"
   ]
  },
  {
   "cell_type": "markdown",
   "metadata": {
    "id": "dUJhIafYMuEs"
   },
   "source": [
    "### Word2Vec"
   ]
  },
  {
   "cell_type": "markdown",
   "metadata": {
    "id": "jgN2yeGC421R"
   },
   "source": [
    "**Word2Vec** is a widely used word embedding model developed by Google. It uses shallow, two-layer neural networks to learn high-quality word vector representations from a large corpus of text. The key idea is:  \n",
    "\n",
    "> \"Words that appear in similar contexts tend to have similar meanings.\"\n",
    "\n",
    "Word2Vec comes in **two architectures**:\n",
    "\n",
    "#### 1. Continuous Bag of Words (CBOW)\n",
    "- **Goal**: Predict the target (center) word given surrounding context words.\n",
    "- **Example**: Given `[\"the\", \"cat\", \"on\", \"the\", \"mat\"]`, CBOW might predict the word `\"sat\"`.\n",
    "\n",
    "#### 2. Skip-Gram\n",
    "- **Goal**: Predict the context words given a single target word.\n",
    "- **Example**: Given the word `\"sat\"`, Skip-Gram tries to predict `[\"the\", \"cat\", \"on\", \"the\", \"mat\"]`.\n",
    "\n",
    "Both models use the same general structure:\n",
    "- Input layer: current word (Skip-Gram) or context (CBOW)\n",
    "- Hidden layer: the **embedding size** (e.g., 100 dimensions)\n",
    "- Output layer: vocabulary words with softmax probabilities\n",
    "\n",
    "\n",
    "\n"
   ]
  },
  {
   "cell_type": "markdown",
   "metadata": {
    "id": "gmzvH5cS5HLX"
   },
   "source": [
    "#### Why Use Word2Vec?\n",
    "\n",
    "Here are several compelling reasons why Word2Vec became foundational in modern NLP pipelines:\n",
    "\n",
    "- **Semantic Proximity**: Words with similar meanings are close in vector space.\n",
    "- **Distributional Semantics**: Based on the idea that \"a word is known by the company it keeps.\"\n",
    "- **Vector Arithmetic**: Enables algebraic operations like  \n",
    "  `vector(\"king\") - vector(\"man\") + vector(\"woman\") ≈ vector(\"queen\")`\n",
    "- **Efficiency**: Scalable to large corpora and vocabularies.\n",
    "- **Transfer Learning**: Pretrained Word2Vec models can jumpstart many downstream tasks.\n",
    "- **Versatile Applications**: Includes text classification, NER, information retrieval, sentiment analysis, machine translation, and more.\n",
    "\n",
    "\n",
    "\n"
   ]
  },
  {
   "cell_type": "markdown",
   "metadata": {
    "id": "OmpSa9-P5W5k"
   },
   "source": [
    "#### How Does It Compare to Other Methods?\n",
    "\n",
    "| Feature                    | One-Hot / BOW | TF-IDF      | Word2Vec     |\n",
    "|----------------------------|---------------|-------------|--------------|\n",
    "| Sparse/Dense               | Sparse        | Sparse      | Dense        |\n",
    "| Contextual Meaning         | ❌             | ❌           | ✅            |\n",
    "| Word Similarity            | ❌             | ❌           | ✅            |\n",
    "| Dimension Size             | Large (Vocab) | Large       | Configurable |\n",
    "| Learns from Data           | ❌             | ❌           | ✅            |\n",
    "\n",
    "\n",
    "\n",
    "\n"
   ]
  },
  {
   "cell_type": "markdown",
   "metadata": {
    "id": "byQp7R3r5hLp"
   },
   "source": [
    "\n",
    "#### Applications of Word Embeddings\n",
    "\n",
    "- **Text Classification**: Improve accuracy for tasks like spam detection or topic classification.\n",
    "- **Named Entity Recognition (NER)**: Recognize names, places, organizations using word context.\n",
    "- **Information Retrieval**: Rank documents based on semantic similarity.\n",
    "- **Machine Translation**: Understand cross-lingual relations.\n",
    "- **Question Answering**: Answer queries by analyzing semantic context."
   ]
  },
  {
   "cell_type": "markdown",
   "metadata": {
    "id": "sPiFAN8t5j0h"
   },
   "source": [
    "#### Implementation (Only shows how to use)"
   ]
  },
  {
   "cell_type": "code",
   "execution_count": null,
   "metadata": {
    "colab": {
     "base_uri": "https://localhost:8080/",
     "height": 584
    },
    "id": "hEw9GaiM59e2",
    "outputId": "be3858d1-0fd0-44d3-f1b6-3a46cf1ee1b9"
   },
   "outputs": [
    {
     "name": "stdout",
     "output_type": "stream",
     "text": [
      "Found existing installation: numpy 1.24.3\n",
      "Uninstalling numpy-1.24.3:\n",
      "  Successfully uninstalled numpy-1.24.3\n",
      "Collecting numpy==1.24.3\n",
      "  Using cached numpy-1.24.3-cp311-cp311-manylinux_2_17_x86_64.manylinux2014_x86_64.whl.metadata (5.6 kB)\n",
      "Using cached numpy-1.24.3-cp311-cp311-manylinux_2_17_x86_64.manylinux2014_x86_64.whl (17.3 MB)\n",
      "Installing collected packages: numpy\n",
      "\u001b[31mERROR: pip's dependency resolver does not currently take into account all the packages that are installed. This behaviour is the source of the following dependency conflicts.\n",
      "tensorflow 2.18.0 requires numpy<2.1.0,>=1.26.0, but you have numpy 1.24.3 which is incompatible.\n",
      "treescope 0.1.9 requires numpy>=1.25.2, but you have numpy 1.24.3 which is incompatible.\n",
      "albucore 0.0.23 requires numpy>=1.24.4, but you have numpy 1.24.3 which is incompatible.\n",
      "blosc2 3.3.0 requires numpy>=1.26, but you have numpy 1.24.3 which is incompatible.\n",
      "pymc 5.21.2 requires numpy>=1.25.0, but you have numpy 1.24.3 which is incompatible.\n",
      "albumentations 2.0.5 requires numpy>=1.24.4, but you have numpy 1.24.3 which is incompatible.\n",
      "jax 0.5.2 requires numpy>=1.25, but you have numpy 1.24.3 which is incompatible.\n",
      "jaxlib 0.5.1 requires numpy>=1.25, but you have numpy 1.24.3 which is incompatible.\u001b[0m\u001b[31m\n",
      "\u001b[0mSuccessfully installed numpy-1.24.3\n"
     ]
    },
    {
     "data": {
      "application/vnd.colab-display-data+json": {
       "id": "66bb3ef35209456eb045151e260e4e8a",
       "pip_warning": {
        "packages": [
         "numpy"
        ]
       }
      }
     },
     "metadata": {},
     "output_type": "display_data"
    },
    {
     "name": "stdout",
     "output_type": "stream",
     "text": [
      "Requirement already satisfied: gensim in /usr/local/lib/python3.11/dist-packages (4.3.3)\n",
      "Requirement already satisfied: nltk in /usr/local/lib/python3.11/dist-packages (3.9.1)\n",
      "Requirement already satisfied: numpy<2.0,>=1.18.5 in /usr/local/lib/python3.11/dist-packages (from gensim) (1.24.3)\n",
      "Requirement already satisfied: scipy<1.14.0,>=1.7.0 in /usr/local/lib/python3.11/dist-packages (from gensim) (1.13.1)\n",
      "Requirement already satisfied: smart-open>=1.8.1 in /usr/local/lib/python3.11/dist-packages (from gensim) (6.4.0)\n",
      "Requirement already satisfied: click in /usr/local/lib/python3.11/dist-packages (from nltk) (8.1.8)\n",
      "Requirement already satisfied: joblib in /usr/local/lib/python3.11/dist-packages (from nltk) (1.4.2)\n",
      "Requirement already satisfied: regex>=2021.8.3 in /usr/local/lib/python3.11/dist-packages (from nltk) (2024.11.6)\n",
      "Requirement already satisfied: tqdm in /usr/local/lib/python3.11/dist-packages (from nltk) (4.67.1)\n"
     ]
    }
   ],
   "source": [
    "# To make gensim work\n",
    "!pip uninstall -y numpy\n",
    "!pip install numpy==1.24.3\n",
    "!pip install gensim nltk"
   ]
  },
  {
   "cell_type": "code",
   "execution_count": null,
   "metadata": {
    "colab": {
     "base_uri": "https://localhost:8080/"
    },
    "id": "eJf9P0SR5eVI",
    "outputId": "191ac2ab-6952-4b15-9ae1-2d82eb0210b2"
   },
   "outputs": [
    {
     "name": "stderr",
     "output_type": "stream",
     "text": [
      "[nltk_data] Downloading package punkt_tab to /root/nltk_data...\n",
      "[nltk_data]   Unzipping tokenizers/punkt_tab.zip.\n"
     ]
    },
    {
     "name": "stdout",
     "output_type": "stream",
     "text": [
      "CBOW similarity (alice vs sister): -0.040319677\n",
      "Skip-Gram similarity (alice vs sister): -0.038677726\n",
      "\n",
      "Vector for 'alice':\n",
      " [-1.9404610e-03 -5.2689151e-03  9.4360970e-03 -9.2978226e-03\n",
      "  4.5089438e-03  5.4019028e-03 -1.4147570e-03  9.0165371e-03\n",
      "  9.8804822e-03 -5.4799193e-03 -6.0211318e-03 -6.7571024e-03\n",
      " -7.8887204e-03 -3.0407177e-03 -5.5874605e-03 -8.3532259e-03\n",
      "  7.8376674e-04  2.9981944e-03  6.4145625e-03 -2.6451615e-03\n",
      " -4.4553620e-03  1.2505733e-03  3.8855651e-04  8.1104711e-03\n",
      "  1.8492188e-04  7.2296122e-03 -8.2648415e-03  8.4384130e-03\n",
      " -1.8951681e-03  8.6990455e-03 -7.6138712e-03  1.7843985e-03\n",
      "  1.0566168e-03  3.4968169e-05 -5.1077534e-03 -9.2371656e-03\n",
      " -7.2635231e-03 -7.9491064e-03  1.9054667e-03  4.7486747e-04\n",
      " -1.8109148e-03  7.1091689e-03 -2.4799879e-03 -1.3383451e-03\n",
      " -8.8913394e-03 -9.9350102e-03  8.9407517e-03 -5.7600047e-03\n",
      " -6.3681128e-03  5.2016764e-03  6.6696317e-03 -6.8412167e-03\n",
      "  9.6278213e-04 -6.0039139e-03  1.6426620e-03 -4.2873709e-03\n",
      " -3.4369284e-03  2.1766981e-03  8.6572934e-03  6.7228060e-03\n",
      " -9.6703796e-03 -5.6273607e-03  7.8964736e-03  1.9979752e-03\n",
      " -4.2664497e-03  6.1753951e-04  9.5176147e-03 -1.0872084e-03\n",
      " -9.4355596e-03  1.6152675e-03  6.2410771e-03  6.2927408e-03\n",
      "  4.1019856e-03 -5.6453766e-03 -3.6051153e-04 -4.4643555e-05\n",
      "  4.5770784e-03 -8.0350405e-03 -8.0224480e-03  2.6040833e-04\n",
      " -8.6207371e-03  5.8107870e-03 -4.3303907e-04  9.9745719e-03\n",
      " -5.3417408e-03 -4.8490171e-04  7.7567599e-03 -4.0680217e-03\n",
      " -5.0065671e-03  1.5993947e-03  2.6514232e-03 -2.5544600e-03\n",
      "  6.4508272e-03 -7.6562343e-03  3.4076690e-03  4.9692555e-04\n",
      "  8.7307291e-03  5.9823361e-03  6.8153283e-03  7.8159692e-03]\n"
     ]
    }
   ],
   "source": [
    "from gensim.models import Word2Vec\n",
    "import nltk\n",
    "from nltk.tokenize import sent_tokenize, word_tokenize\n",
    "\n",
    "nltk.download('punkt_tab')\n",
    "\n",
    "\n",
    "# Sample text for training generated by AI\n",
    "text = \"\"\"\n",
    "Alice was beginning to get very tired of sitting by her sister on the bank, and of having nothing to do.\n",
    "Once or twice she had peeped into the book her sister was reading, but it had no pictures or conversations in it,\n",
    "'and what is the use of a book,' thought Alice 'without pictures or conversation?'\n",
    "\"\"\"\n",
    "\n",
    "# Preprocessing\n",
    "sentences = sent_tokenize(text)\n",
    "data = [word_tokenize(sent.lower()) for sent in sentences]\n",
    "\n",
    "# Train CBOW model\n",
    "model_cbow = Word2Vec(sentences=data, vector_size=100, window=5, min_count=1, sg=0) # 0 for CBOW\n",
    "\n",
    "# Train Skip-Gram model\n",
    "model_sg = Word2Vec(sentences=data, vector_size=100, window=5, min_count=1, sg=1) # 1 for Skip-Gram\n",
    "\n",
    "# Similarity examples\n",
    "print(\"CBOW similarity (alice vs sister):\", model_cbow.wv.similarity('alice', 'sister'))\n",
    "print(\"Skip-Gram similarity (alice vs sister):\", model_sg.wv.similarity('alice', 'sister'))\n",
    "\n",
    "# Vector for a word\n",
    "print(\"\\nVector for 'alice':\\n\", model_cbow.wv['alice'])"
   ]
  },
  {
   "cell_type": "markdown",
   "metadata": {
    "id": "kJ6ywUe-MuKC"
   },
   "source": [
    "### GloVe"
   ]
  },
  {
   "cell_type": "markdown",
   "metadata": {
    "id": "RZaeO317KIiH"
   },
   "source": [
    "GloVe (Global Vectors for Word Representation) is an unsupervised algorithm that generates word embeddings using word co-occurrence statistics from a corpus. Developed by Pennington, Socher, and Manning (2014), GloVe combines the benefits of matrix factorization (like LSA) and local context window methods (like Word2Vec).\n",
    "\n",
    "- **Input**: Co-occurrence matrix\n",
    "- **Optimization**: Minimize difference between dot product of word vectors and log of their co-occurrence counts.\n",
    "- **Output**: Dense word vectors capturing syntactic & semantic info.\n",
    "\n",
    "\n"
   ]
  },
  {
   "cell_type": "markdown",
   "metadata": {
    "id": "7Xu5aH8sKWFF"
   },
   "source": [
    "#### How GloVe Works\n",
    "\n",
    "1. Build a **co-occurrence matrix** (how often words appear together).\n",
    "2. Compute the **Pointwise Mutual Information (PMI)**.\n",
    "3. Use a **cost function** to ensure the dot product of vectors is close to the log of the co-occurrence probability.\n",
    "4. Optimize with **Stochastic Gradient Descent**.\n",
    "\n",
    "Result: word vectors that encode semantic relationships.\n"
   ]
  },
  {
   "cell_type": "markdown",
   "metadata": {
    "id": "w1O-TFR6EkF2"
   },
   "source": [
    "We will see how to write GloVe in training part."
   ]
  },
  {
   "cell_type": "markdown",
   "metadata": {
    "id": "Em7Ag_DSLHn6"
   },
   "source": [
    "### 3. Pre-Trained Contextual Embeddings\n",
    "\n",
    "These models produce embeddings that vary by context (e.g., the word \"bank\" in finance vs. riverbank):\n",
    "\n",
    "#### 🔹 ELMo (Embeddings from Language Models)\n",
    "- Uses deep bi-directional LSTMs.\n",
    "- Word representation depends on the entire sentence.\n",
    "\n",
    "#### 🔹 BERT (Bidirectional Encoder Representations from Transformers)\n",
    "- Uses transformer-based architecture.\n",
    "- Contextual embeddings for each token.\n",
    "- Powerful for downstream NLP tasks (classification, QA, etc.).\n",
    "\n",
    "\n",
    "\n"
   ]
  },
  {
   "cell_type": "markdown",
   "metadata": {
    "id": "oKLwfHLsLJPr"
   },
   "source": [
    "### 4. Document Embedding\n",
    "\n",
    "To represent entire documents, not just words:\n",
    "\n",
    "#### 🔹 Doc2Vec\n",
    "- Extension of Word2Vec.\n",
    "- Learns embeddings for entire documents.\n",
    "- Two main methods: **Distributed Memory (DM)** and **Distributed Bag of Words (DBOW)**.\n"
   ]
  },
  {
   "cell_type": "markdown",
   "metadata": {
    "id": "gjHjPbmwaqsD"
   },
   "source": [
    "# **4. Final processing and training model**"
   ]
  },
  {
   "cell_type": "markdown",
   "metadata": {
    "id": "jOuD1-6t8AhB"
   },
   "source": [
    "[Dataset](https://www.kaggle.com/datasets/lakshmi25npathi/imdb-dataset-of-50k-movie-reviews)\n",
    "\n",
    "[GloVe](https://www.kaggle.com/datasets/sawarn69/glove6b100dtxt)"
   ]
  },
  {
   "cell_type": "markdown",
   "metadata": {
    "id": "ewuslzHtHPi_"
   },
   "source": [
    "## Function to unzip and load data"
   ]
  },
  {
   "cell_type": "code",
   "execution_count": 6,
   "metadata": {
    "id": "nD1zCj-GHWQW"
   },
   "outputs": [],
   "source": [
    "import zipfile\n",
    "import pandas as pd\n",
    "import os\n",
    "\n",
    "PREFIX = '/content/'\n",
    "\n",
    "ZIP_NAME = 'zipped_data.zip'\n",
    "DATASET_NAME = 'IMDB Dataset.csv'\n",
    "\n",
    "ZIP_PATH = PREFIX + ZIP_NAME\n",
    "DATASET_PATH = PREFIX + DATASET_NAME\n",
    "\n",
    "def unzip_and_load_data(zip_path=ZIP_PATH, dataset_path=DATASET_PATH):\n",
    "    try:\n",
    "        with zipfile.ZipFile(zip_path, 'r') as zip_ref:\n",
    "            zip_ref.extractall(PREFIX)\n",
    "\n",
    "        extracted_files = os.listdir(PREFIX)\n",
    "        print(\"Extracted files:\", extracted_files)\n",
    "\n",
    "        if DATASET_NAME not in extracted_files:\n",
    "            raise FileNotFoundError(f\"'{DATASET_NAME}' not found after extraction.\")\n",
    "\n",
    "        df = pd.read_csv(DATASET_PATH)\n",
    "        return df\n",
    "\n",
    "    except zipfile.BadZipFile:\n",
    "        print(f\"Error: The file {zip_path} is not a valid zip file.\")\n",
    "    except FileNotFoundError as e:\n",
    "        print(e)\n",
    "    except Exception as e:\n",
    "        print(f\"An error occurred: {e}\")"
   ]
  },
  {
   "cell_type": "markdown",
   "metadata": {
    "id": "gRSloNRiEvnl"
   },
   "source": [
    "## Full text preprocessing and tokenizing data"
   ]
  },
  {
   "cell_type": "code",
   "execution_count": 2,
   "metadata": {
    "colab": {
     "base_uri": "https://localhost:8080/"
    },
    "id": "nERsWhQuyL0_",
    "outputId": "adf984ee-9767-43be-a96e-84ae2c4220e6"
   },
   "outputs": [
    {
     "name": "stdout",
     "output_type": "stream",
     "text": [
      "Collecting contractions\n",
      "  Downloading contractions-0.1.73-py2.py3-none-any.whl.metadata (1.2 kB)\n",
      "Collecting textsearch>=0.0.21 (from contractions)\n",
      "  Downloading textsearch-0.0.24-py2.py3-none-any.whl.metadata (1.2 kB)\n",
      "Collecting anyascii (from textsearch>=0.0.21->contractions)\n",
      "  Downloading anyascii-0.3.2-py3-none-any.whl.metadata (1.5 kB)\n",
      "Collecting pyahocorasick (from textsearch>=0.0.21->contractions)\n",
      "  Downloading pyahocorasick-2.1.0-cp311-cp311-manylinux_2_17_x86_64.manylinux2014_x86_64.whl.metadata (13 kB)\n",
      "Downloading contractions-0.1.73-py2.py3-none-any.whl (8.7 kB)\n",
      "Downloading textsearch-0.0.24-py2.py3-none-any.whl (7.6 kB)\n",
      "Downloading anyascii-0.3.2-py3-none-any.whl (289 kB)\n",
      "\u001b[2K   \u001b[90m━━━━━━━━━━━━━━━━━━━━━━━━━━━━━━━━━━━━━━━━\u001b[0m \u001b[32m289.9/289.9 kB\u001b[0m \u001b[31m23.5 MB/s\u001b[0m eta \u001b[36m0:00:00\u001b[0m\n",
      "\u001b[?25hDownloading pyahocorasick-2.1.0-cp311-cp311-manylinux_2_17_x86_64.manylinux2014_x86_64.whl (118 kB)\n",
      "\u001b[2K   \u001b[90m━━━━━━━━━━━━━━━━━━━━━━━━━━━━━━━━━━━━━━━━\u001b[0m \u001b[32m118.3/118.3 kB\u001b[0m \u001b[31m13.3 MB/s\u001b[0m eta \u001b[36m0:00:00\u001b[0m\n",
      "\u001b[?25hInstalling collected packages: pyahocorasick, anyascii, textsearch, contractions\n",
      "Successfully installed anyascii-0.3.2 contractions-0.1.73 pyahocorasick-2.1.0 textsearch-0.0.24\n"
     ]
    }
   ],
   "source": [
    "!pip install contractions"
   ]
  },
  {
   "cell_type": "code",
   "execution_count": 3,
   "metadata": {
    "colab": {
     "base_uri": "https://localhost:8080/"
    },
    "id": "QkkGqZk9cZKY",
    "outputId": "17ff9e14-f19a-410e-ebcc-0250cba4bef4"
   },
   "outputs": [
    {
     "name": "stderr",
     "output_type": "stream",
     "text": [
      "[nltk_data] Downloading package punkt_tab to /root/nltk_data...\n",
      "[nltk_data]   Unzipping tokenizers/punkt_tab.zip.\n",
      "[nltk_data] Downloading package wordnet to /root/nltk_data...\n",
      "[nltk_data] Downloading package stopwords to /root/nltk_data...\n",
      "[nltk_data]   Unzipping corpora/stopwords.zip.\n"
     ]
    }
   ],
   "source": [
    "import nltk\n",
    "import re\n",
    "import contractions\n",
    "from nltk.corpus import stopwords\n",
    "from nltk.stem import WordNetLemmatizer\n",
    "from nltk.tokenize import word_tokenize\n",
    "\n",
    "# Download necessary NLTK resources\n",
    "nltk.download('punkt_tab')\n",
    "nltk.download('wordnet')\n",
    "nltk.download('stopwords')\n",
    "\n",
    "def preprocess_text(text):\n",
    "    # Extra - Expand contractions (e.g., \"don't\" -> \"do not\")\n",
    "    text = contractions.fix(text)\n",
    "\n",
    "    # Remove HTML tags\n",
    "    text = re.sub('<[^>]*>', '', text)\n",
    "\n",
    "    # Preserve emoticons like :-) or ;)\n",
    "    emoticons = re.findall(r'(?::|;|=)(?:-)?(?:\\)|\\(|D|P)', text)\n",
    "\n",
    "    # Lowercase and remove non-word characters\n",
    "    text = re.sub(r'[\\W]+', ' ', text.lower())\n",
    "\n",
    "    # Add emoticons back (remove hyphen for uniformity)\n",
    "    text += ' ' + ''.join(emoticons).replace('-', '')\n",
    "\n",
    "    return text\n",
    "\n",
    "def tokenize_text(text):\n",
    "    # Tokenize text\n",
    "    tokens = word_tokenize(text)\n",
    "\n",
    "    # Initialize lemmatizer and stopwords\n",
    "    lemmatizer = WordNetLemmatizer()\n",
    "    stop_words = set(stopwords.words('english'))\n",
    "\n",
    "    # Lemmatize words and remove stopwords\n",
    "    return [lemmatizer.lemmatize(word) for word in tokens if word.lower() not in stop_words]\n"
   ]
  },
  {
   "cell_type": "markdown",
   "metadata": {
    "id": "PvjgRkf-RNjY"
   },
   "source": [
    "## Splitting data into training and testing set"
   ]
  },
  {
   "cell_type": "code",
   "execution_count": 7,
   "metadata": {
    "colab": {
     "base_uri": "https://localhost:8080/"
    },
    "id": "p6XDbahpTDfz",
    "outputId": "f3bb0b8f-7a6e-4e37-ec04-9bfebef6de21"
   },
   "outputs": [
    {
     "name": "stdout",
     "output_type": "stream",
     "text": [
      "Extracted files: ['.config', 'IMDB Dataset.csv', 'glove.6B.100d.txt', 'zipped_data.zip', 'drive', 'sample_data']\n",
      "Training set size: 40000\n",
      "Testing set size: 10000\n"
     ]
    }
   ],
   "source": [
    "from sklearn.model_selection import train_test_split\n",
    "\n",
    "df = unzip_and_load_data()\n",
    "\n",
    "df['cleaned_review'] = df['review'].apply(preprocess_text)\n",
    "df['sentiment'] = df['sentiment'].map({'positive': 1, 'negative': 0})\n",
    "\n",
    "X = df['cleaned_review']\n",
    "y = df['sentiment']\n",
    "\n",
    "X_train, X_test, y_train, y_test = train_test_split(\n",
    "    X, y, test_size=0.2, random_state=42, stratify=y\n",
    ")\n",
    "\n",
    "print(f\"Training set size: {len(X_train)}\")\n",
    "print(f\"Testing set size: {len(X_test)}\")"
   ]
  },
  {
   "cell_type": "markdown",
   "metadata": {
    "id": "30h-pYh2xb33"
   },
   "source": [
    "## Implementing 2 Different Approaches\n",
    "\n",
    "Now that we have our data preprocessed text and splitted into training and testing sets, we will implement two different approaches for sentiment analysis on the IMDB dataset."
   ]
  },
  {
   "cell_type": "markdown",
   "metadata": {
    "id": "BEggMSeHLeyO"
   },
   "source": [
    "\n",
    "\n",
    "\n",
    "\n",
    "### **1. Bag of Words (BoW) + TF-IDF + Logistic Regression**\n",
    "\n",
    "In this approach, we will convert the text data into numerical features using the **Bag of Words** (BoW) model combined with **Term Frequency-Inverse Document Frequency** (TF-IDF) to weigh the words based on their importance. The features will be used to train a **Logistic Regression** classifier for sentiment prediction.\n",
    "\n",
    "#### Steps:\n",
    "- Tokenize the text and create a vocabulary using BoW .\n",
    "- Apply TF-IDF transformation to the tokens.\n",
    "- Train a Logistic Regression model to predict sentiment.\n",
    "\n",
    "\n"
   ]
  },
  {
   "cell_type": "code",
   "execution_count": 8,
   "metadata": {
    "colab": {
     "base_uri": "https://localhost:8080/"
    },
    "id": "wA61qF06xfRu",
    "outputId": "b39f26ac-3a33-4e1d-e597-b1432147bdfd"
   },
   "outputs": [
    {
     "name": "stdout",
     "output_type": "stream",
     "text": [
      "Accuracy: 0.8894\n",
      "              precision    recall  f1-score   support\n",
      "\n",
      "           0       0.90      0.88      0.89      5000\n",
      "           1       0.88      0.90      0.89      5000\n",
      "\n",
      "    accuracy                           0.89     10000\n",
      "   macro avg       0.89      0.89      0.89     10000\n",
      "weighted avg       0.89      0.89      0.89     10000\n",
      "\n"
     ]
    }
   ],
   "source": [
    "from sklearn.feature_extraction.text import TfidfVectorizer\n",
    "from sklearn.linear_model import LogisticRegression\n",
    "from sklearn.metrics import accuracy_score, classification_report\n",
    "\n",
    "# 1. Tokenize and join tokens back to strings for vectorization\n",
    "X_train_tokens = X_train.apply(lambda x: ' '.join(tokenize_text(x)))\n",
    "X_test_tokens = X_test.apply(lambda x: ' '.join(tokenize_text(x)))\n",
    "\n",
    "# 2. TF-IDF Vectorization\n",
    "vectorizer = TfidfVectorizer(max_features=5000)\n",
    "X_train_vect = vectorizer.fit_transform(X_train_tokens)\n",
    "X_test_vect = vectorizer.transform(X_test_tokens)\n",
    "\n",
    "# 3. Train a Model\n",
    "clf = LogisticRegression(max_iter=1000)\n",
    "clf.fit(X_train_vect, y_train)\n",
    "\n",
    "y_pred = clf.predict(X_test_vect)\n",
    "\n",
    "print(\"Accuracy:\", accuracy_score(y_test, y_pred))\n",
    "print(classification_report(y_test, y_pred))"
   ]
  },
  {
   "cell_type": "code",
   "execution_count": 9,
   "metadata": {
    "colab": {
     "base_uri": "https://localhost:8080/",
     "height": 410
    },
    "id": "kHhi-97705E2",
    "outputId": "a0e58ce8-827b-4018-88b5-d3a71295d5af"
   },
   "outputs": [
    {
     "data": {
      "image/png": "[encoded data removed]",
      "text/plain": [
       "<Figure size 600x400 with 2 Axes>"
      ]
     },
     "metadata": {},
     "output_type": "display_data"
    }
   ],
   "source": [
    "from sklearn.metrics import confusion_matrix\n",
    "import seaborn as sns\n",
    "import matplotlib.pyplot as plt\n",
    "\n",
    "cm = confusion_matrix(y_test, y_pred)\n",
    "\n",
    "plt.figure(figsize=(6, 4))\n",
    "sns.heatmap(cm, annot=True, fmt='d', cmap='Blues',\n",
    "            xticklabels=['Predicted Negative', 'Predicted Positive'],\n",
    "            yticklabels=['Actual Negative', 'Actual Positive'])\n",
    "plt.xlabel('Prediction')\n",
    "plt.ylabel('Actual')\n",
    "plt.title('Confusion Matrix')\n",
    "plt.show()"
   ]
  },
  {
   "cell_type": "markdown",
   "metadata": {
    "id": "8dlyMLmyxZNQ"
   },
   "source": [
    "### **2. Pretrained GloVe Embeddings + LSTM**\n",
    "\n",
    "In this approach, instead of training our own embeddings, we will use **pretrained GloVe embeddings** (e.g., **glove.6B.100d**). These embeddings have already been trained on large corpora and contain semantic knowledge about words. We will load these embeddings into an **Embedding layer** in the LSTM network and train the model for sentiment classification.\n",
    "\n",
    "#### Steps:\n",
    "- Preprocess and tokenize the text data (already done).\n",
    "- Load **pretrained GloVe embeddings**.\n",
    "- Create an embedding matrix aligned with the tokenized words in the dataset.\n",
    "- Train the LSTM model using the pretrained embeddings to predict sentiment.\n"
   ]
  },
  {
   "cell_type": "markdown",
   "metadata": {
    "id": "QTOWcKhU1STf"
   },
   "source": [
    "Before deciding on a suitable maximum sequence length for our LSTM model, it's important to analyze the distribution of review lengths in the dataset. This helps ensure we capture the essential content of most reviews while avoiding excessive padding or truncation. The following histogram and statistics give us insight into how long the reviews typically are:"
   ]
  },
  {
   "cell_type": "code",
   "execution_count": 14,
   "metadata": {
    "colab": {
     "base_uri": "https://localhost:8080/",
     "height": 616
    },
    "id": "h_hnDp--6H4K",
    "outputId": "d2dfeaa7-9427-463d-d3b3-acd00d408285"
   },
   "outputs": [
    {
     "data": {
      "image/png": "[encoded data removed]",
      "text/plain": [
       "<Figure size 1000x600 with 1 Axes>"
      ]
     },
     "metadata": {},
     "output_type": "display_data"
    },
    {
     "name": "stdout",
     "output_type": "stream",
     "text": [
      "Maximum review length: 2498\n",
      "Average review length: 235.654125\n",
      "Median review length: 177.0\n"
     ]
    }
   ],
   "source": [
    "import matplotlib.pyplot as plt\n",
    "import numpy as np\n",
    "\n",
    "\n",
    "# Assuming your reviews are in X_train or X_test\n",
    "review_lengths = X_train.apply(lambda x: len(x.split()))\n",
    "\n",
    "# Plotting the distribution of review lengths\n",
    "plt.figure(figsize=(10, 6))\n",
    "plt.hist(review_lengths, bins=50, color='blue', alpha=0.7)\n",
    "plt.title('Distribution of Review Lengths in IMDB Dataset')\n",
    "plt.xlabel('Review Length')\n",
    "plt.ylabel('Frequency')\n",
    "plt.show()\n",
    "\n",
    "# Get some statistics about the review lengths\n",
    "print(f\"Maximum review length: {max(review_lengths)}\")\n",
    "print(f\"Average review length: {np.mean(review_lengths)}\")\n",
    "print(f\"Median review length: {np.median(review_lengths)}\")"
   ]
  },
  {
   "cell_type": "code",
   "execution_count": 15,
   "metadata": {
    "id": "bIiWOpUU4atj"
   },
   "outputs": [],
   "source": [
    "import numpy as np\n",
    "from tensorflow.keras.preprocessing.text import Tokenizer\n",
    "from tensorflow.keras.preprocessing.sequence import pad_sequences\n",
    "\n",
    "# Apply the tokenization function to preprocessed text\n",
    "X_train_tokens = X_train.apply(tokenize_text)\n",
    "X_test_tokens = X_test.apply(tokenize_text)\n",
    "\n",
    "# Step 1: Fit the Tokenizer on the tokenized text - gives every token unique index\n",
    "tokenizer = Tokenizer()\n",
    "tokenizer.fit_on_texts(X_train_tokens)\n",
    "\n",
    "# Step 2: Create the embedding matrix\n",
    "embedding_dim = 100  # Every word as 100-dim vector\n",
    "vocab_size = len(tokenizer.word_index) + 1  # Add 1 for padding token\n",
    "\n",
    "# Initialize an empty embedding matrix\n",
    "embedding_matrix = np.zeros((vocab_size, embedding_dim))\n",
    "\n",
    "# Load the pre-trained GloVe embeddings - available to download from kaggle\n",
    "embeddings_index = {}\n",
    "with open('glove.6B.100d.txt', encoding='utf-8') as f:\n",
    "    for line in f:\n",
    "        values = line.split()\n",
    "        word = values[0]\n",
    "        coefs = np.asarray(values[1:], dtype='float32')\n",
    "        embeddings_index[word] = coefs\n",
    "\n",
    "# Step 3: Populate the embedding matrix with GloVe vectors\n",
    "for word, i in tokenizer.word_index.items():\n",
    "    embedding_vector = embeddings_index.get(word)\n",
    "    if embedding_vector is not None:\n",
    "        embedding_matrix[i] = embedding_vector\n",
    "\n",
    "# Step 4: Pad the sequences to ensure uniform input size\n",
    "max_sequence_length = 250  # Based on graph above\n",
    "X_train_seq = tokenizer.texts_to_sequences(X_train_tokens) # to indices\n",
    "X_test_seq = tokenizer.texts_to_sequences(X_test_tokens)\n",
    "\n",
    "X_train_padded = pad_sequences(X_train_seq, maxlen=max_sequence_length)\n",
    "X_test_padded = pad_sequences(X_test_seq, maxlen=max_sequence_length)"
   ]
  },
  {
   "cell_type": "code",
   "execution_count": 16,
   "metadata": {
    "colab": {
     "base_uri": "https://localhost:8080/",
     "height": 1000
    },
    "id": "REsWpDA26p-2",
    "outputId": "a7036b21-cb99-4580-a39b-1d66c9866f3d"
   },
   "outputs": [
    {
     "name": "stderr",
     "output_type": "stream",
     "text": [
      "/usr/local/lib/python3.11/dist-packages/keras/src/layers/core/embedding.py:90: UserWarning: Argument `input_length` is deprecated. Just remove it.\n",
      "  warnings.warn(\n"
     ]
    },
    {
     "name": "stdout",
     "output_type": "stream",
     "text": [
      "Epoch 1/15\n",
      "\u001b[1m625/625\u001b[0m \u001b[32m━━━━━━━━━━━━━━━━━━━━\u001b[0m\u001b[37m\u001b[0m \u001b[1m285s\u001b[0m 442ms/step - accuracy: 0.6687 - loss: 0.5979 - val_accuracy: 0.8062 - val_loss: 0.4225\n",
      "Epoch 2/15\n",
      "\u001b[1m625/625\u001b[0m \u001b[32m━━━━━━━━━━━━━━━━━━━━\u001b[0m\u001b[37m\u001b[0m \u001b[1m276s\u001b[0m 442ms/step - accuracy: 0.7916 - loss: 0.4518 - val_accuracy: 0.8450 - val_loss: 0.3572\n",
      "Epoch 3/15\n",
      "\u001b[1m625/625\u001b[0m \u001b[32m━━━━━━━━━━━━━━━━━━━━\u001b[0m\u001b[37m\u001b[0m \u001b[1m269s\u001b[0m 431ms/step - accuracy: 0.8261 - loss: 0.3907 - val_accuracy: 0.8649 - val_loss: 0.3198\n",
      "Epoch 4/15\n",
      "\u001b[1m625/625\u001b[0m \u001b[32m━━━━━━━━━━━━━━━━━━━━\u001b[0m\u001b[37m\u001b[0m \u001b[1m322s\u001b[0m 431ms/step - accuracy: 0.8446 - loss: 0.3553 - val_accuracy: 0.8718 - val_loss: 0.3015\n",
      "Epoch 5/15\n",
      "\u001b[1m625/625\u001b[0m \u001b[32m━━━━━━━━━━━━━━━━━━━━\u001b[0m\u001b[37m\u001b[0m \u001b[1m320s\u001b[0m 428ms/step - accuracy: 0.8563 - loss: 0.3294 - val_accuracy: 0.8718 - val_loss: 0.3006\n",
      "Epoch 6/15\n",
      "\u001b[1m625/625\u001b[0m \u001b[32m━━━━━━━━━━━━━━━━━━━━\u001b[0m\u001b[37m\u001b[0m \u001b[1m319s\u001b[0m 422ms/step - accuracy: 0.8666 - loss: 0.3142 - val_accuracy: 0.8790 - val_loss: 0.2891\n",
      "Epoch 7/15\n",
      "\u001b[1m625/625\u001b[0m \u001b[32m━━━━━━━━━━━━━━━━━━━━\u001b[0m\u001b[37m\u001b[0m \u001b[1m323s\u001b[0m 424ms/step - accuracy: 0.8713 - loss: 0.3054 - val_accuracy: 0.8831 - val_loss: 0.2782\n",
      "Epoch 8/15\n",
      "\u001b[1m625/625\u001b[0m \u001b[32m━━━━━━━━━━━━━━━━━━━━\u001b[0m\u001b[37m\u001b[0m \u001b[1m263s\u001b[0m 421ms/step - accuracy: 0.8775 - loss: 0.2873 - val_accuracy: 0.8879 - val_loss: 0.2706\n",
      "Epoch 9/15\n",
      "\u001b[1m625/625\u001b[0m \u001b[32m━━━━━━━━━━━━━━━━━━━━\u001b[0m\u001b[37m\u001b[0m \u001b[1m263s\u001b[0m 420ms/step - accuracy: 0.8797 - loss: 0.2844 - val_accuracy: 0.8876 - val_loss: 0.2682\n",
      "Epoch 10/15\n",
      "\u001b[1m625/625\u001b[0m \u001b[32m━━━━━━━━━━━━━━━━━━━━\u001b[0m\u001b[37m\u001b[0m \u001b[1m243s\u001b[0m 388ms/step - accuracy: 0.8868 - loss: 0.2718 - val_accuracy: 0.8887 - val_loss: 0.2619\n",
      "Epoch 11/15\n",
      "\u001b[1m625/625\u001b[0m \u001b[32m━━━━━━━━━━━━━━━━━━━━\u001b[0m\u001b[37m\u001b[0m \u001b[1m282s\u001b[0m 421ms/step - accuracy: 0.8896 - loss: 0.2637 - val_accuracy: 0.8918 - val_loss: 0.2611\n",
      "Epoch 12/15\n",
      "\u001b[1m625/625\u001b[0m \u001b[32m━━━━━━━━━━━━━━━━━━━━\u001b[0m\u001b[37m\u001b[0m \u001b[1m301s\u001b[0m 389ms/step - accuracy: 0.8937 - loss: 0.2547 - val_accuracy: 0.8907 - val_loss: 0.2596\n",
      "Epoch 13/15\n",
      "\u001b[1m625/625\u001b[0m \u001b[32m━━━━━━━━━━━━━━━━━━━━\u001b[0m\u001b[37m\u001b[0m \u001b[1m261s\u001b[0m 388ms/step - accuracy: 0.8981 - loss: 0.2487 - val_accuracy: 0.8941 - val_loss: 0.2570\n",
      "Epoch 14/15\n",
      "\u001b[1m625/625\u001b[0m \u001b[32m━━━━━━━━━━━━━━━━━━━━\u001b[0m\u001b[37m\u001b[0m \u001b[1m283s\u001b[0m 421ms/step - accuracy: 0.9030 - loss: 0.2387 - val_accuracy: 0.8936 - val_loss: 0.2608\n",
      "Epoch 15/15\n",
      "\u001b[1m625/625\u001b[0m \u001b[32m━━━━━━━━━━━━━━━━━━━━\u001b[0m\u001b[37m\u001b[0m \u001b[1m324s\u001b[0m 425ms/step - accuracy: 0.9040 - loss: 0.2376 - val_accuracy: 0.8928 - val_loss: 0.2604\n",
      "\u001b[1m313/313\u001b[0m \u001b[32m━━━━━━━━━━━━━━━━━━━━\u001b[0m\u001b[37m\u001b[0m \u001b[1m44s\u001b[0m 140ms/step\n"
     ]
    },
    {
     "data": {
      "image/png": "[encoded data removed]",
      "text/plain": [
       "<Figure size 1200x600 with 2 Axes>"
      ]
     },
     "metadata": {},
     "output_type": "display_data"
    }
   ],
   "source": [
    "from tensorflow.keras.models import Sequential\n",
    "from tensorflow.keras.layers import Embedding, LSTM, Dense, Dropout\n",
    "from tensorflow.keras.callbacks import EarlyStopping\n",
    "import matplotlib.pyplot as plt\n",
    "\n",
    "# Step 5: Build the LSTM model\n",
    "model = Sequential()\n",
    "model.add(Embedding(\n",
    "    input_dim=vocab_size,\n",
    "    output_dim=embedding_dim,\n",
    "    weights=[embedding_matrix],\n",
    "    input_length=max_sequence_length,\n",
    "    trainable=False\n",
    "))\n",
    "model.add(LSTM(128, dropout=0.2, recurrent_dropout=0.2))\n",
    "model.add(Dropout(0.5))\n",
    "model.add(Dense(64, activation='relu'))\n",
    "model.add(Dense(1, activation='sigmoid'))\n",
    "\n",
    "# Step 6: Compile the model\n",
    "model.compile(loss='binary_crossentropy', optimizer='adam', metrics=['accuracy'])\n",
    "\n",
    "# Step 7: Early stopping\n",
    "early_stop = EarlyStopping(monitor='val_loss', patience=2, restore_best_weights=True)\n",
    "\n",
    "# Step 8: Train the model and capture the history\n",
    "history = model.fit(\n",
    "    X_train_padded, y_train,\n",
    "    epochs=15,\n",
    "    batch_size=64,\n",
    "    validation_data=(X_test_padded, y_test),\n",
    "    callbacks=[early_stop]\n",
    ")\n",
    "\n",
    "# Step 9: Evaluate the model\n",
    "y_pred = (model.predict(X_test_padded) > 0.5).astype('int32')\n",
    "\n",
    "# Step 10: Plot the training curves\n",
    "plt.figure(figsize=(12, 6))\n",
    "\n",
    "# Loss\n",
    "plt.subplot(1, 2, 1)\n",
    "plt.plot(history.history['loss'], label='Training loss')\n",
    "plt.plot(history.history['val_loss'], label='Validation loss')\n",
    "plt.title('Model Loss')\n",
    "plt.xlabel('Epoch')\n",
    "plt.ylabel('Loss')\n",
    "plt.legend()\n",
    "\n",
    "# Accuracy\n",
    "plt.subplot(1, 2, 2)\n",
    "plt.plot(history.history['accuracy'], label='Training accuracy')\n",
    "plt.plot(history.history['val_accuracy'], label='Validation accuracy')\n",
    "plt.title('Model Accuracy')\n",
    "plt.xlabel('Epoch')\n",
    "plt.ylabel('Accuracy')\n",
    "plt.legend()\n",
    "\n",
    "plt.tight_layout()\n",
    "plt.show()\n"
   ]
  },
  {
   "cell_type": "code",
   "execution_count": 17,
   "metadata": {
    "colab": {
     "base_uri": "https://localhost:8080/",
     "height": 559
    },
    "id": "yMKP8hrv7Ltp",
    "outputId": "8b5b03fa-cd8b-403f-dc42-b4beb041c994"
   },
   "outputs": [
    {
     "name": "stdout",
     "output_type": "stream",
     "text": [
      "\u001b[1m313/313\u001b[0m \u001b[32m━━━━━━━━━━━━━━━━━━━━\u001b[0m\u001b[37m\u001b[0m \u001b[1m58s\u001b[0m 186ms/step\n"
     ]
    },
    {
     "data": {
      "image/png": "[encoded data removed]",
      "text/plain": [
       "<Figure size 800x600 with 2 Axes>"
      ]
     },
     "metadata": {},
     "output_type": "display_data"
    }
   ],
   "source": [
    "y_pred = (model.predict(X_test_padded) > 0.5).astype('int32')\n",
    "\n",
    "# Step 9: Compute the confusion matrix\n",
    "cm = confusion_matrix(y_test, y_pred)\n",
    "\n",
    "# Step 10: Plot the confusion matrix using seaborn\n",
    "plt.figure(figsize=(8, 6))\n",
    "sns.heatmap(cm, annot=True, fmt='d', cmap='Blues', xticklabels=['Predicted Negative', 'Predicted Positive'],\n",
    "yticklabels=['Actual Negative', 'Actual Positive'])\n",
    "plt.xlabel('Predicted')\n",
    "plt.ylabel('Actual')\n",
    "plt.show()"
   ]
  },
  {
   "cell_type": "markdown",
   "metadata": {},
   "source": [
    "We observed that after around ten epochs, the model began to show signs of overfitting, where the validation performance no longer improved despite continued training. Overall, both models performed comparably, each achieving approximately 89% accuracy on the test set"
   ]
  }
 ],
 "metadata": {
  "accelerator": "GPU",
  "colab": {
   "collapsed_sections": [
    "HOKaf8wmWhuv"
   ],
   "gpuType": "T4",
   "provenance": [],
   "toc_visible": true
  },
  "kernelspec": {
   "display_name": "Python 3",
   "name": "python3"
  },
  "language_info": {
   "name": "python"
  }
 },
 "nbformat": 4,
 "nbformat_minor": 0
}
